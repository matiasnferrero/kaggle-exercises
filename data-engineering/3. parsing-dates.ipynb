{
 "cells": [
  {
   "cell_type": "markdown",
   "metadata": {},
   "source": [
    "# Data cleaning: parsing dates\n",
    "\n",
    "This notebook is an abstraction of the Kaggle's 5-Day Challenge.\n",
    "\n",
    "The **goal** of this exercise is to clean date entries. \n",
    "\n",
    "The **evaluation** of the assignment will follow:\n",
    "\n",
    "* Design process and thinking as a data engineer.\n",
    "* Validation of knowledge on the different tools and steps throughout the process.\n",
    "* Storytelling and visualisation of the insights.\n",
    "\n",
    "Exercise **workflow**:\n",
    "\n",
    "* Import dependencies & download dataset from [here](https://www.kaggle.com/usgs/earthquake-database/download).\n",
    "* Explore incoherent date formats.\n",
    "* Parse dates\n",
    "* Validate parsed dates\n",
    "    \n",
    "Notes:\n",
    "\n",
    "* Write your code into the `TODO` cells.\n",
    "* Feel free to choose how to present the results throughout the exercise, what libraries (e.g., seaborn, bokeh, etc.) and/or tools (e.g., PowerBI or Tableau)."
   ]
  },
  {
   "cell_type": "markdown",
   "metadata": {
    "_cell_guid": "5cd5061f-ae30-4837-a53b-690ffd5c5830",
    "_uuid": "9d82bf13584b8e682962fbb96131f2447d741679"
   },
   "source": [
    "## Preamble\n",
    "________"
   ]
  },
  {
   "cell_type": "code",
   "execution_count": 1,
   "metadata": {},
   "outputs": [
    {
     "name": "stdout",
     "output_type": "stream",
     "text": [
      "Defaulting to user installation because normal site-packages is not writeable\n",
      "Requirement already satisfied: chardet==4.0.0 in /home/matias/.local/lib/python3.8/site-packages (from -r ../requirements.txt (line 1)) (4.0.0)\n",
      "Requirement already satisfied: cycler==0.10.0 in /home/matias/.local/lib/python3.8/site-packages (from -r ../requirements.txt (line 2)) (0.10.0)\n",
      "Requirement already satisfied: freeze==3.0 in /home/matias/.local/lib/python3.8/site-packages (from -r ../requirements.txt (line 3)) (3.0)\n",
      "Requirement already satisfied: fuzzywuzzy==0.18.0 in /home/matias/.local/lib/python3.8/site-packages (from -r ../requirements.txt (line 4)) (0.18.0)\n",
      "Requirement already satisfied: install==1.3.4 in /home/matias/.local/lib/python3.8/site-packages (from -r ../requirements.txt (line 5)) (1.3.4)\n",
      "Requirement already satisfied: joblib==1.0.0 in /home/matias/.local/lib/python3.8/site-packages (from -r ../requirements.txt (line 6)) (1.0.0)\n",
      "Requirement already satisfied: kiwisolver==1.3.1 in /home/matias/.local/lib/python3.8/site-packages (from -r ../requirements.txt (line 7)) (1.3.1)\n",
      "Requirement already satisfied: matplotlib==3.3.4 in /home/matias/.local/lib/python3.8/site-packages (from -r ../requirements.txt (line 8)) (3.3.4)\n",
      "Requirement already satisfied: mlxtend==0.18.0 in /home/matias/.local/lib/python3.8/site-packages (from -r ../requirements.txt (line 9)) (0.18.0)\n",
      "Requirement already satisfied: numpy==1.20.0 in /home/matias/.local/lib/python3.8/site-packages (from -r ../requirements.txt (line 10)) (1.20.0)\n",
      "Requirement already satisfied: pandas==1.2.1 in /home/matias/.local/lib/python3.8/site-packages (from -r ../requirements.txt (line 11)) (1.2.1)\n",
      "Requirement already satisfied: patsy==0.5.1 in /home/matias/.local/lib/python3.8/site-packages (from -r ../requirements.txt (line 12)) (0.5.1)\n",
      "Requirement already satisfied: Pillow==8.1.0 in /home/matias/.local/lib/python3.8/site-packages (from -r ../requirements.txt (line 13)) (8.1.0)\n",
      "Requirement already satisfied: pyparsing==2.4.7 in /home/matias/.local/lib/python3.8/site-packages (from -r ../requirements.txt (line 14)) (2.4.7)\n",
      "Requirement already satisfied: python-dateutil==2.8.1 in /home/matias/.local/lib/python3.8/site-packages (from -r ../requirements.txt (line 15)) (2.8.1)\n",
      "Requirement already satisfied: pytz==2021.1 in /home/matias/.local/lib/python3.8/site-packages (from -r ../requirements.txt (line 16)) (2021.1)\n",
      "Requirement already satisfied: scikit-learn==0.24.1 in /home/matias/.local/lib/python3.8/site-packages (from -r ../requirements.txt (line 17)) (0.24.1)\n",
      "Requirement already satisfied: scipy==1.6.0 in /home/matias/.local/lib/python3.8/site-packages (from -r ../requirements.txt (line 18)) (1.6.0)\n",
      "Requirement already satisfied: seaborn==0.11.1 in /home/matias/.local/lib/python3.8/site-packages (from -r ../requirements.txt (line 19)) (0.11.1)\n",
      "Requirement already satisfied: six==1.15.0 in /home/matias/.local/lib/python3.8/site-packages (from -r ../requirements.txt (line 20)) (1.15.0)\n",
      "Requirement already satisfied: statsmodels==0.12.2 in /home/matias/.local/lib/python3.8/site-packages (from -r ../requirements.txt (line 21)) (0.12.2)\n",
      "Requirement already satisfied: threadpoolctl==2.1.0 in /home/matias/.local/lib/python3.8/site-packages (from -r ../requirements.txt (line 22)) (2.1.0)\n",
      "Requirement already satisfied: setuptools in /usr/lib/python3/dist-packages (from mlxtend==0.18.0->-r ../requirements.txt (line 9)) (45.2.0)\n"
     ]
    }
   ],
   "source": [
    "!pip install -r ../requirements.txt"
   ]
  },
  {
   "cell_type": "code",
   "execution_count": 2,
   "metadata": {
    "_cell_guid": "135a7804-b5f5-40aa-8657-4a15774e3666",
    "_uuid": "835cbe0834b935fb0fd40c75b9c39454836f4d5f"
   },
   "outputs": [],
   "source": [
    "import pandas as pd\n",
    "import numpy as np\n",
    "import seaborn as sns\n",
    "import datetime\n",
    "\n",
    "np.random.seed(0)\n",
    "\n",
    "%run functions.ipynb"
   ]
  },
  {
   "cell_type": "markdown",
   "metadata": {},
   "source": [
    "## Data\n",
    "________\n",
    "\n",
    "* Download the earthquakes dataset from [here](https://www.kaggle.com/usgs/earthquake-database/download)"
   ]
  },
  {
   "cell_type": "code",
   "execution_count": 3,
   "metadata": {},
   "outputs": [
    {
     "name": "stdout",
     "output_type": "stream",
     "text": [
      "Reading: database.csv\n",
      "shape: (23412, 21)\n",
      "columns: ['Date', 'Time', 'Latitude', 'Longitude', 'Type', 'Depth', 'Depth Error', 'Depth Seismic Stations', 'Magnitude', 'Magnitude Type', 'Magnitude Error', 'Magnitude Seismic Stations', 'Azimuthal Gap', 'Horizontal Distance', 'Horizontal Error', 'Root Mean Square', 'ID', 'Source', 'Location Source', 'Magnitude Source', 'Status']\n",
      "pc_number_of_null_values: 0.295817\n",
      "\n"
     ]
    },
    {
     "data": {
      "text/html": [
       "<div>\n",
       "<style scoped>\n",
       "    .dataframe tbody tr th:only-of-type {\n",
       "        vertical-align: middle;\n",
       "    }\n",
       "\n",
       "    .dataframe tbody tr th {\n",
       "        vertical-align: top;\n",
       "    }\n",
       "\n",
       "    .dataframe thead th {\n",
       "        text-align: right;\n",
       "    }\n",
       "</style>\n",
       "<table border=\"1\" class=\"dataframe\">\n",
       "  <thead>\n",
       "    <tr style=\"text-align: right;\">\n",
       "      <th></th>\n",
       "      <th>Date</th>\n",
       "      <th>Time</th>\n",
       "      <th>Latitude</th>\n",
       "      <th>Longitude</th>\n",
       "      <th>Type</th>\n",
       "      <th>Depth</th>\n",
       "      <th>Depth Error</th>\n",
       "      <th>Depth Seismic Stations</th>\n",
       "      <th>Magnitude</th>\n",
       "      <th>Magnitude Type</th>\n",
       "      <th>...</th>\n",
       "      <th>Magnitude Seismic Stations</th>\n",
       "      <th>Azimuthal Gap</th>\n",
       "      <th>Horizontal Distance</th>\n",
       "      <th>Horizontal Error</th>\n",
       "      <th>Root Mean Square</th>\n",
       "      <th>ID</th>\n",
       "      <th>Source</th>\n",
       "      <th>Location Source</th>\n",
       "      <th>Magnitude Source</th>\n",
       "      <th>Status</th>\n",
       "    </tr>\n",
       "  </thead>\n",
       "  <tbody>\n",
       "    <tr>\n",
       "      <th>0</th>\n",
       "      <td>01/02/1965</td>\n",
       "      <td>13:44:18</td>\n",
       "      <td>19.246</td>\n",
       "      <td>145.616</td>\n",
       "      <td>Earthquake</td>\n",
       "      <td>131.6</td>\n",
       "      <td>NaN</td>\n",
       "      <td>NaN</td>\n",
       "      <td>6.0</td>\n",
       "      <td>MW</td>\n",
       "      <td>...</td>\n",
       "      <td>NaN</td>\n",
       "      <td>NaN</td>\n",
       "      <td>NaN</td>\n",
       "      <td>NaN</td>\n",
       "      <td>NaN</td>\n",
       "      <td>ISCGEM860706</td>\n",
       "      <td>ISCGEM</td>\n",
       "      <td>ISCGEM</td>\n",
       "      <td>ISCGEM</td>\n",
       "      <td>Automatic</td>\n",
       "    </tr>\n",
       "    <tr>\n",
       "      <th>1</th>\n",
       "      <td>01/04/1965</td>\n",
       "      <td>11:29:49</td>\n",
       "      <td>1.863</td>\n",
       "      <td>127.352</td>\n",
       "      <td>Earthquake</td>\n",
       "      <td>80.0</td>\n",
       "      <td>NaN</td>\n",
       "      <td>NaN</td>\n",
       "      <td>5.8</td>\n",
       "      <td>MW</td>\n",
       "      <td>...</td>\n",
       "      <td>NaN</td>\n",
       "      <td>NaN</td>\n",
       "      <td>NaN</td>\n",
       "      <td>NaN</td>\n",
       "      <td>NaN</td>\n",
       "      <td>ISCGEM860737</td>\n",
       "      <td>ISCGEM</td>\n",
       "      <td>ISCGEM</td>\n",
       "      <td>ISCGEM</td>\n",
       "      <td>Automatic</td>\n",
       "    </tr>\n",
       "    <tr>\n",
       "      <th>2</th>\n",
       "      <td>01/05/1965</td>\n",
       "      <td>18:05:58</td>\n",
       "      <td>-20.579</td>\n",
       "      <td>-173.972</td>\n",
       "      <td>Earthquake</td>\n",
       "      <td>20.0</td>\n",
       "      <td>NaN</td>\n",
       "      <td>NaN</td>\n",
       "      <td>6.2</td>\n",
       "      <td>MW</td>\n",
       "      <td>...</td>\n",
       "      <td>NaN</td>\n",
       "      <td>NaN</td>\n",
       "      <td>NaN</td>\n",
       "      <td>NaN</td>\n",
       "      <td>NaN</td>\n",
       "      <td>ISCGEM860762</td>\n",
       "      <td>ISCGEM</td>\n",
       "      <td>ISCGEM</td>\n",
       "      <td>ISCGEM</td>\n",
       "      <td>Automatic</td>\n",
       "    </tr>\n",
       "  </tbody>\n",
       "</table>\n",
       "<p>3 rows × 21 columns</p>\n",
       "</div>"
      ],
      "text/plain": [
       "         Date      Time  Latitude  Longitude        Type  Depth  Depth Error  \\\n",
       "0  01/02/1965  13:44:18    19.246    145.616  Earthquake  131.6          NaN   \n",
       "1  01/04/1965  11:29:49     1.863    127.352  Earthquake   80.0          NaN   \n",
       "2  01/05/1965  18:05:58   -20.579   -173.972  Earthquake   20.0          NaN   \n",
       "\n",
       "   Depth Seismic Stations  Magnitude Magnitude Type  ...  \\\n",
       "0                     NaN        6.0             MW  ...   \n",
       "1                     NaN        5.8             MW  ...   \n",
       "2                     NaN        6.2             MW  ...   \n",
       "\n",
       "   Magnitude Seismic Stations  Azimuthal Gap  Horizontal Distance  \\\n",
       "0                         NaN            NaN                  NaN   \n",
       "1                         NaN            NaN                  NaN   \n",
       "2                         NaN            NaN                  NaN   \n",
       "\n",
       "   Horizontal Error  Root Mean Square            ID  Source Location Source  \\\n",
       "0               NaN               NaN  ISCGEM860706  ISCGEM          ISCGEM   \n",
       "1               NaN               NaN  ISCGEM860737  ISCGEM          ISCGEM   \n",
       "2               NaN               NaN  ISCGEM860762  ISCGEM          ISCGEM   \n",
       "\n",
       "  Magnitude Source     Status  \n",
       "0           ISCGEM  Automatic  \n",
       "1           ISCGEM  Automatic  \n",
       "2           ISCGEM  Automatic  \n",
       "\n",
       "[3 rows x 21 columns]"
      ]
     },
     "execution_count": 3,
     "metadata": {},
     "output_type": "execute_result"
    }
   ],
   "source": [
    "### REPLACE WITH YOUR PATH\n",
    "BASE_PATH = '/home/matias/data/earthquake'\n",
    "\n",
    "df = build_df_from_csv('database.csv', BASE_PATH = BASE_PATH, clean_headers = False) \n",
    "df.head(3)"
   ]
  },
  {
   "cell_type": "markdown",
   "metadata": {},
   "source": [
    "## Dates\n",
    "________\n",
    "\n",
    "**TODO**\n",
    "\n",
    "* Check the data type of the `date` column\n"
   ]
  },
  {
   "cell_type": "code",
   "execution_count": 4,
   "metadata": {},
   "outputs": [
    {
     "data": {
      "text/plain": [
       "dtype('O')"
      ]
     },
     "execution_count": 4,
     "metadata": {},
     "output_type": "execute_result"
    }
   ],
   "source": [
    "df['Date'].dtypes"
   ]
  },
  {
   "cell_type": "markdown",
   "metadata": {},
   "source": [
    "**TODO**\n",
    "* Convert the `date` column to `datetime`\n"
   ]
  },
  {
   "cell_type": "code",
   "execution_count": 5,
   "metadata": {},
   "outputs": [],
   "source": [
    "df['Date'] = pd.to_datetime(df['Date'], utc=True)"
   ]
  },
  {
   "cell_type": "markdown",
   "metadata": {},
   "source": [
    "**TODO**\n",
    "* Select just the `day of the month` from the parsed date column"
   ]
  },
  {
   "cell_type": "code",
   "execution_count": 6,
   "metadata": {},
   "outputs": [],
   "source": [
    "df['day_of_month'] = df['Date'].dt.day"
   ]
  },
  {
   "cell_type": "markdown",
   "metadata": {},
   "source": [
    "**TODO**\n",
    "* Plot the day of the month to validate the date parsing"
   ]
  },
  {
   "cell_type": "code",
   "execution_count": 7,
   "metadata": {},
   "outputs": [
    {
     "data": {
      "image/png": "[encoded data removed]",
      "text/plain": [
       "<Figure size 1440x1440 with 1 Axes>"
      ]
     },
     "metadata": {
      "needs_background": "light"
     },
     "output_type": "display_data"
    }
   ],
   "source": [
    "# Visual validation: we see that values varies strictly from 1 to 31\n",
    "plot_histogram(df, 'day_of_month')"
   ]
  },
  {
   "cell_type": "code",
   "execution_count": null,
   "metadata": {},
   "outputs": [],
   "source": []
  }
 ],
 "metadata": {
  "kernelspec": {
   "display_name": "Python 3",
   "language": "python",
   "name": "python3"
  },
  "language_info": {
   "codemirror_mode": {
    "name": "ipython",
    "version": 3
   },
   "file_extension": ".py",
   "mimetype": "text/x-python",
   "name": "python",
   "nbconvert_exporter": "python",
   "pygments_lexer": "ipython3",
   "version": "3.8.5"
  }
 },
 "nbformat": 4,
 "nbformat_minor": 4
}
