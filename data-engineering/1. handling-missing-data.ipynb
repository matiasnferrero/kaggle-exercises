{
 "cells": [
  {
   "cell_type": "markdown",
   "metadata": {},
   "source": [
    "# Data cleaning: handling missing data\n",
    "\n",
    "This notebook is an abstraction of the Kaggle's 5-Day Challenge.\n",
    "\n",
    "The **goal** of this exercise is to clean missing entries. \n",
    "\n",
    "The **evaluation** of the assignment will follow:\n",
    "\n",
    "* Design process and thinking as a data engineer.\n",
    "* Validation of knowledge on the different tools and steps throughout the process.\n",
    "* Storytelling and visualisation of the insights.\n",
    "\n",
    "Exercise **workflow**:\n",
    "\n",
    "* Import dependencies & download dataset from [here](https://www.kaggle.com/maxhorowitz/nflplaybyplay2009to2016/download).\n",
    "* Explore missing data points and values.\n",
    "* Assess the reason for the missing data points and values.\n",
    "* Evaluate a method to drop the missing values.\n",
    "* Evaluate a method to fill the missing values.\n",
    "    \n",
    "Notes:\n",
    "\n",
    "* Write your code into the `TODO` cells.\n",
    "* Feel free to choose how to present the results throughout the exercise, what libraries (e.g., seaborn, bokeh, etc.) and/or tools (e.g., PowerBI or Tableau)."
   ]
  },
  {
   "cell_type": "markdown",
   "metadata": {
    "_cell_guid": "5cd5061f-ae30-4837-a53b-690ffd5c5830",
    "_uuid": "9d82bf13584b8e682962fbb96131f2447d741679"
   },
   "source": [
    "## Preamble\n",
    "________"
   ]
  },
  {
   "cell_type": "code",
   "execution_count": 7,
   "metadata": {},
   "outputs": [
    {
     "output_type": "stream",
     "name": "stdout",
     "text": [
      "Defaulting to user installation because normal site-packages is not writeable\n",
      "Requirement already satisfied: chardet==4.0.0 in /home/matias/.local/lib/python3.8/site-packages (from -r ../requirements.txt (line 1)) (4.0.0)\n",
      "Requirement already satisfied: cycler==0.10.0 in /home/matias/.local/lib/python3.8/site-packages (from -r ../requirements.txt (line 2)) (0.10.0)\n",
      "Requirement already satisfied: freeze==3.0 in /home/matias/.local/lib/python3.8/site-packages (from -r ../requirements.txt (line 3)) (3.0)\n",
      "Requirement already satisfied: fuzzywuzzy==0.18.0 in /home/matias/.local/lib/python3.8/site-packages (from -r ../requirements.txt (line 4)) (0.18.0)\n",
      "Requirement already satisfied: install==1.3.4 in /home/matias/.local/lib/python3.8/site-packages (from -r ../requirements.txt (line 5)) (1.3.4)\n",
      "Requirement already satisfied: joblib==1.0.0 in /home/matias/.local/lib/python3.8/site-packages (from -r ../requirements.txt (line 6)) (1.0.0)\n",
      "Requirement already satisfied: kiwisolver==1.3.1 in /home/matias/.local/lib/python3.8/site-packages (from -r ../requirements.txt (line 7)) (1.3.1)\n",
      "Requirement already satisfied: matplotlib==3.3.4 in /home/matias/.local/lib/python3.8/site-packages (from -r ../requirements.txt (line 8)) (3.3.4)\n",
      "Requirement already satisfied: mlxtend==0.18.0 in /home/matias/.local/lib/python3.8/site-packages (from -r ../requirements.txt (line 9)) (0.18.0)\n",
      "Requirement already satisfied: numpy==1.20.0 in /home/matias/.local/lib/python3.8/site-packages (from -r ../requirements.txt (line 10)) (1.20.0)\n",
      "Requirement already satisfied: pandas==1.2.1 in /home/matias/.local/lib/python3.8/site-packages (from -r ../requirements.txt (line 11)) (1.2.1)\n",
      "Requirement already satisfied: patsy==0.5.1 in /home/matias/.local/lib/python3.8/site-packages (from -r ../requirements.txt (line 12)) (0.5.1)\n",
      "Requirement already satisfied: Pillow==8.1.0 in /home/matias/.local/lib/python3.8/site-packages (from -r ../requirements.txt (line 13)) (8.1.0)\n",
      "Requirement already satisfied: pyparsing==2.4.7 in /home/matias/.local/lib/python3.8/site-packages (from -r ../requirements.txt (line 14)) (2.4.7)\n",
      "Requirement already satisfied: python-dateutil==2.8.1 in /home/matias/.local/lib/python3.8/site-packages (from -r ../requirements.txt (line 15)) (2.8.1)\n",
      "Requirement already satisfied: pytz==2021.1 in /home/matias/.local/lib/python3.8/site-packages (from -r ../requirements.txt (line 16)) (2021.1)\n",
      "Requirement already satisfied: scikit-learn==0.24.1 in /home/matias/.local/lib/python3.8/site-packages (from -r ../requirements.txt (line 17)) (0.24.1)\n",
      "Requirement already satisfied: scipy==1.6.0 in /home/matias/.local/lib/python3.8/site-packages (from -r ../requirements.txt (line 18)) (1.6.0)\n",
      "Requirement already satisfied: seaborn==0.11.1 in /home/matias/.local/lib/python3.8/site-packages (from -r ../requirements.txt (line 19)) (0.11.1)\n",
      "Requirement already satisfied: six==1.15.0 in /home/matias/.local/lib/python3.8/site-packages (from -r ../requirements.txt (line 20)) (1.15.0)\n",
      "Requirement already satisfied: statsmodels==0.12.2 in /home/matias/.local/lib/python3.8/site-packages (from -r ../requirements.txt (line 21)) (0.12.2)\n",
      "Requirement already satisfied: threadpoolctl==2.1.0 in /home/matias/.local/lib/python3.8/site-packages (from -r ../requirements.txt (line 22)) (2.1.0)\n",
      "Requirement already satisfied: setuptools in /usr/lib/python3/dist-packages (from mlxtend==0.18.0->-r ../requirements.txt (line 9)) (45.2.0)\n"
     ]
    }
   ],
   "source": [
    "### just to inspect what we are about to install \n",
    "### most packages where installed automatically by missingno\n",
    "#!cat ../requirements.txt \n",
    "!pip install -r ../requirements.txt "
   ]
  },
  {
   "cell_type": "code",
   "execution_count": 8,
   "metadata": {
    "_cell_guid": "135a7804-b5f5-40aa-8657-4a15774e3666",
    "_kg_hide-input": false,
    "_kg_hide-output": false,
    "_uuid": "835cbe0834b935fb0fd40c75b9c39454836f4d5f"
   },
   "outputs": [],
   "source": [
    "import pandas as pd\n",
    "import numpy as np\n",
    "\n",
    "np.random.seed(0) \n",
    "\n",
    "import missingno as msno\n",
    "import matplotlib.pyplot as plt\n",
    "\n",
    "# This is just to make the presentation cleaner, but warnings need to be analyzed and fixed.\n",
    "# But I dint have time for it. \n",
    "import warnings\n",
    "warnings.filterwarnings('ignore')\n",
    "\n",
    "%run functions.ipynb"
   ]
  },
  {
   "cell_type": "markdown",
   "metadata": {},
   "source": [
    "# ------------------ PART 1: Ingestion and exploratory analysis -----------------"
   ]
  },
  {
   "cell_type": "markdown",
   "metadata": {},
   "source": [
    "## Data\n",
    "________\n",
    "\n",
    "**TODO**\n",
    "\n",
    "* Download the data from [here](https://www.kaggle.com/maxhorowitz/nflplaybyplay2009to2016/download)\n",
    "* Get some info regarding the dataframe (e.g., shape, dimensions, column names, etc.)"
   ]
  },
  {
   "cell_type": "code",
   "execution_count": 9,
   "metadata": {},
   "outputs": [
    {
     "output_type": "stream",
     "name": "stdout",
     "text": [
      "Reading: NFL Play by Play 2009-2018 (v5).csv\n",
      "shape: (449371, 255)\n",
      "columns: ['play_id', 'game_id', 'home_team', 'away_team', 'posteam', 'posteam_type', 'defteam', 'side_of_field', 'yardline_100', 'game_date', 'quarter_seconds_remaining', 'half_seconds_remaining', 'game_seconds_remaining', 'game_half', 'quarter_end', 'drive', 'sp', 'qtr', 'down', 'goal_to_go', 'time', 'yrdln', 'ydstogo', 'ydsnet', 'desc', 'play_type', 'yards_gained', 'shotgun', 'no_huddle', 'qb_dropback', 'qb_kneel', 'qb_spike', 'qb_scramble', 'pass_length', 'pass_location', 'air_yards', 'yards_after_catch', 'run_location', 'run_gap', 'field_goal_result', 'kick_distance', 'extra_point_result', 'two_point_conv_result', 'home_timeouts_remaining', 'away_timeouts_remaining', 'timeout', 'timeout_team', 'td_team', 'posteam_timeouts_remaining', 'defteam_timeouts_remaining', 'total_home_score', 'total_away_score', 'posteam_score', 'defteam_score', 'score_differential', 'posteam_score_post', 'defteam_score_post', 'score_differential_post', 'no_score_prob', 'opp_fg_prob', 'opp_safety_prob', 'opp_td_prob', 'fg_prob', 'safety_prob', 'td_prob', 'extra_point_prob', 'two_point_conversion_prob', 'ep', 'epa', 'total_home_epa', 'total_away_epa', 'total_home_rush_epa', 'total_away_rush_epa', 'total_home_pass_epa', 'total_away_pass_epa', 'air_epa', 'yac_epa', 'comp_air_epa', 'comp_yac_epa', 'total_home_comp_air_epa', 'total_away_comp_air_epa', 'total_home_comp_yac_epa', 'total_away_comp_yac_epa', 'total_home_raw_air_epa', 'total_away_raw_air_epa', 'total_home_raw_yac_epa', 'total_away_raw_yac_epa', 'wp', 'def_wp', 'home_wp', 'away_wp', 'wpa', 'home_wp_post', 'away_wp_post', 'total_home_rush_wpa', 'total_away_rush_wpa', 'total_home_pass_wpa', 'total_away_pass_wpa', 'air_wpa', 'yac_wpa', 'comp_air_wpa', 'comp_yac_wpa', 'total_home_comp_air_wpa', 'total_away_comp_air_wpa', 'total_home_comp_yac_wpa', 'total_away_comp_yac_wpa', 'total_home_raw_air_wpa', 'total_away_raw_air_wpa', 'total_home_raw_yac_wpa', 'total_away_raw_yac_wpa', 'punt_blocked', 'first_down_rush', 'first_down_pass', 'first_down_penalty', 'third_down_converted', 'third_down_failed', 'fourth_down_converted', 'fourth_down_failed', 'incomplete_pass', 'interception', 'punt_inside_twenty', 'punt_in_endzone', 'punt_out_of_bounds', 'punt_downed', 'punt_fair_catch', 'kickoff_inside_twenty', 'kickoff_in_endzone', 'kickoff_out_of_bounds', 'kickoff_downed', 'kickoff_fair_catch', 'fumble_forced', 'fumble_not_forced', 'fumble_out_of_bounds', 'solo_tackle', 'safety', 'penalty', 'tackled_for_loss', 'fumble_lost', 'own_kickoff_recovery', 'own_kickoff_recovery_td', 'qb_hit', 'rush_attempt', 'pass_attempt', 'sack', 'touchdown', 'pass_touchdown', 'rush_touchdown', 'return_touchdown', 'extra_point_attempt', 'two_point_attempt', 'field_goal_attempt', 'kickoff_attempt', 'punt_attempt', 'fumble', 'complete_pass', 'assist_tackle', 'lateral_reception', 'lateral_rush', 'lateral_return', 'lateral_recovery', 'passer_player_id', 'passer_player_name', 'receiver_player_id', 'receiver_player_name', 'rusher_player_id', 'rusher_player_name', 'lateral_receiver_player_id', 'lateral_receiver_player_name', 'lateral_rusher_player_id', 'lateral_rusher_player_name', 'lateral_sack_player_id', 'lateral_sack_player_name', 'interception_player_id', 'interception_player_name', 'lateral_interception_player_id', 'lateral_interception_player_name', 'punt_returner_player_id', 'punt_returner_player_name', 'lateral_punt_returner_player_id', 'lateral_punt_returner_player_name', 'kickoff_returner_player_name', 'kickoff_returner_player_id', 'lateral_kickoff_returner_player_id', 'lateral_kickoff_returner_player_name', 'punter_player_id', 'punter_player_name', 'kicker_player_name', 'kicker_player_id', 'own_kickoff_recovery_player_id', 'own_kickoff_recovery_player_name', 'blocked_player_id', 'blocked_player_name', 'tackle_for_loss_1_player_id', 'tackle_for_loss_1_player_name', 'tackle_for_loss_2_player_id', 'tackle_for_loss_2_player_name', 'qb_hit_1_player_id', 'qb_hit_1_player_name', 'qb_hit_2_player_id', 'qb_hit_2_player_name', 'forced_fumble_player_1_team', 'forced_fumble_player_1_player_id', 'forced_fumble_player_1_player_name', 'forced_fumble_player_2_team', 'forced_fumble_player_2_player_id', 'forced_fumble_player_2_player_name', 'solo_tackle_1_team', 'solo_tackle_2_team', 'solo_tackle_1_player_id', 'solo_tackle_2_player_id', 'solo_tackle_1_player_name', 'solo_tackle_2_player_name', 'assist_tackle_1_player_id', 'assist_tackle_1_player_name', 'assist_tackle_1_team', 'assist_tackle_2_player_id', 'assist_tackle_2_player_name', 'assist_tackle_2_team', 'assist_tackle_3_player_id', 'assist_tackle_3_player_name', 'assist_tackle_3_team', 'assist_tackle_4_player_id', 'assist_tackle_4_player_name', 'assist_tackle_4_team', 'pass_defense_1_player_id', 'pass_defense_1_player_name', 'pass_defense_2_player_id', 'pass_defense_2_player_name', 'fumbled_1_team', 'fumbled_1_player_id', 'fumbled_1_player_name', 'fumbled_2_player_id', 'fumbled_2_player_name', 'fumbled_2_team', 'fumble_recovery_1_team', 'fumble_recovery_1_yards', 'fumble_recovery_1_player_id', 'fumble_recovery_1_player_name', 'fumble_recovery_2_team', 'fumble_recovery_2_yards', 'fumble_recovery_2_player_id', 'fumble_recovery_2_player_name', 'return_team', 'return_yards', 'penalty_team', 'penalty_player_id', 'penalty_player_name', 'penalty_yards', 'replay_or_challenge', 'replay_or_challenge_result', 'penalty_type', 'defensive_two_point_attempt', 'defensive_two_point_conv', 'defensive_extra_point_attempt', 'defensive_extra_point_conv']\n",
      "pc_number_of_null_values: 0.385039\n",
      "\n"
     ]
    }
   ],
   "source": [
    "### REPLACE WITH YOUR PATH\n",
    "BASE_PATH = '/home/matias/data/kaggle/NFL Play by Play 2009-2016/archive'\n",
    "df = build_df_from_csv('NFL Play by Play 2009-2018 (v5).csv', BASE_PATH, clean_headers = False)"
   ]
  },
  {
   "cell_type": "code",
   "execution_count": 10,
   "metadata": {},
   "outputs": [
    {
     "output_type": "execute_result",
     "data": {
      "text/plain": [
       "<AxesSubplot:>"
      ]
     },
     "metadata": {},
     "execution_count": 10
    },
    {
     "output_type": "display_data",
     "data": {
      "text/plain": "<Figure size 1800x720 with 2 Axes>",
      "image/png": "[encoded data removed]"
     },
     "metadata": {
      "needs_background": "light"
     }
    }
   ],
   "source": [
    "msno.matrix(df)"
   ]
  },
  {
   "cell_type": "markdown",
   "metadata": {
    "_cell_guid": "33656c2b-a74e-4b76-9af2-d7ecd518577b",
    "_uuid": "400b025f618cc76a39fec2537193f28ba1e49168"
   },
   "source": [
    "## Exploration of missing data points and values\n",
    "___\n",
    "\n",
    "**TODO**\n",
    "\n",
    "* How many missing values are there?\n",
    "* What's the percentage of missing values?\n"
   ]
  },
  {
   "cell_type": "code",
   "execution_count": 11,
   "metadata": {},
   "outputs": [
    {
     "output_type": "stream",
     "name": "stdout",
     "text": [
      "total_number_of_null_values: 44,121,484\ntotal_number_of_filled_values: 70,468,121\ntotal_number_of_values: 114,589,605\npc_number_of_null_values: 0.385039\n"
     ]
    }
   ],
   "source": [
    "print_stats_about_missing_values(df, mode='all')"
   ]
  },
  {
   "cell_type": "markdown",
   "metadata": {},
   "source": [
    "**TODO**\n",
    "* How many missing data points per column are there?"
   ]
  },
  {
   "cell_type": "code",
   "execution_count": 12,
   "metadata": {},
   "outputs": [
    {
     "output_type": "execute_result",
     "data": {
      "text/plain": [
       "play_id                               0\n",
       "game_id                               0\n",
       "home_team                             0\n",
       "away_team                             0\n",
       "posteam                           13242\n",
       "                                  ...  \n",
       "penalty_type                     418232\n",
       "defensive_two_point_attempt       12874\n",
       "defensive_two_point_conv          12874\n",
       "defensive_extra_point_attempt     12874\n",
       "defensive_extra_point_conv        12874\n",
       "Length: 255, dtype: int64"
      ]
     },
     "metadata": {},
     "execution_count": 12
    }
   ],
   "source": [
    "df.isnull().sum() "
   ]
  },
  {
   "cell_type": "markdown",
   "metadata": {
    "_cell_guid": "62b9f021-5b80-43e2-bf60-8e0d5e22d572",
    "_uuid": "032a618abb98a28e60ab84376cf21402178f995d"
   },
   "source": [
    "## Assessment of missing data points and values\n",
    "____\n",
    " \n",
    "**TODO**\n",
    "\n",
    "* Look at the # of missing points in all nonzero columns sorted descending. "
   ]
  },
  {
   "cell_type": "code",
   "execution_count": 13,
   "metadata": {},
   "outputs": [
    {
     "output_type": "execute_result",
     "data": {
      "text/plain": [
       "assist_tackle_4_team           100.0\n",
       "assist_tackle_4_player_id      100.0\n",
       "lateral_sack_player_id         100.0\n",
       "lateral_sack_player_name       100.0\n",
       "assist_tackle_4_player_name    100.0\n",
       "                               ...  \n",
       "total_away_epa                   0.0\n",
       "total_home_epa                   0.0\n",
       "two_point_conversion_prob        0.0\n",
       "extra_point_prob                 0.0\n",
       "play_id                          0.0\n",
       "Length: 255, dtype: float64"
      ]
     },
     "metadata": {},
     "execution_count": 13
    }
   ],
   "source": [
    "print_number_of_missing_points_in_descending_order(df)"
   ]
  },
  {
   "cell_type": "code",
   "execution_count": 14,
   "metadata": {},
   "outputs": [
    {
     "output_type": "display_data",
     "data": {
      "text/plain": "<Figure size 1440x144 with 1 Axes>",
      "image/png": "[encoded data removed]"
     },
     "metadata": {
      "needs_background": "light"
     }
    }
   ],
   "source": [
    "# ca 50 cols are totally solid \n",
    "# Few are totally empty \n",
    "\n",
    "plot_pc_of_nulls(df)"
   ]
  },
  {
   "cell_type": "markdown",
   "metadata": {
    "_cell_guid": "ea022b62-6419-47e7-973e-c3e707e2795f",
    "_uuid": "3f72f46f2464c7cd12f5eb2a752746ce1cd0b5a7"
   },
   "source": [
    "## Drop missing values\n",
    "___\n",
    "\n",
    "**TODO**\n",
    "\n",
    "* Evaluate removing all rows with missing values\n"
   ]
  },
  {
   "cell_type": "code",
   "execution_count": 15,
   "metadata": {},
   "outputs": [
    {
     "output_type": "execute_result",
     "data": {
      "text/plain": [
       "Empty DataFrame\n",
       "Columns: [play_id, game_id, home_team, away_team, posteam, posteam_type, defteam, side_of_field, yardline_100, game_date, quarter_seconds_remaining, half_seconds_remaining, game_seconds_remaining, game_half, quarter_end, drive, sp, qtr, down, goal_to_go, time, yrdln, ydstogo, ydsnet, desc, play_type, yards_gained, shotgun, no_huddle, qb_dropback, qb_kneel, qb_spike, qb_scramble, pass_length, pass_location, air_yards, yards_after_catch, run_location, run_gap, field_goal_result, kick_distance, extra_point_result, two_point_conv_result, home_timeouts_remaining, away_timeouts_remaining, timeout, timeout_team, td_team, posteam_timeouts_remaining, defteam_timeouts_remaining, total_home_score, total_away_score, posteam_score, defteam_score, score_differential, posteam_score_post, defteam_score_post, score_differential_post, no_score_prob, opp_fg_prob, opp_safety_prob, opp_td_prob, fg_prob, safety_prob, td_prob, extra_point_prob, two_point_conversion_prob, ep, epa, total_home_epa, total_away_epa, total_home_rush_epa, total_away_rush_epa, total_home_pass_epa, total_away_pass_epa, air_epa, yac_epa, comp_air_epa, comp_yac_epa, total_home_comp_air_epa, total_away_comp_air_epa, total_home_comp_yac_epa, total_away_comp_yac_epa, total_home_raw_air_epa, total_away_raw_air_epa, total_home_raw_yac_epa, total_away_raw_yac_epa, wp, def_wp, home_wp, away_wp, wpa, home_wp_post, away_wp_post, total_home_rush_wpa, total_away_rush_wpa, total_home_pass_wpa, total_away_pass_wpa, air_wpa, yac_wpa, ...]\n",
       "Index: []\n",
       "\n",
       "[0 rows x 255 columns]"
      ],
      "text/html": "<div>\n<style scoped>\n    .dataframe tbody tr th:only-of-type {\n        vertical-align: middle;\n    }\n\n    .dataframe tbody tr th {\n        vertical-align: top;\n    }\n\n    .dataframe thead th {\n        text-align: right;\n    }\n</style>\n<table border=\"1\" class=\"dataframe\">\n  <thead>\n    <tr style=\"text-align: right;\">\n      <th></th>\n      <th>play_id</th>\n      <th>game_id</th>\n      <th>home_team</th>\n      <th>away_team</th>\n      <th>posteam</th>\n      <th>posteam_type</th>\n      <th>defteam</th>\n      <th>side_of_field</th>\n      <th>yardline_100</th>\n      <th>game_date</th>\n      <th>...</th>\n      <th>penalty_player_id</th>\n      <th>penalty_player_name</th>\n      <th>penalty_yards</th>\n      <th>replay_or_challenge</th>\n      <th>replay_or_challenge_result</th>\n      <th>penalty_type</th>\n      <th>defensive_two_point_attempt</th>\n      <th>defensive_two_point_conv</th>\n      <th>defensive_extra_point_attempt</th>\n      <th>defensive_extra_point_conv</th>\n    </tr>\n  </thead>\n  <tbody>\n  </tbody>\n</table>\n<p>0 rows × 255 columns</p>\n</div>"
     },
     "metadata": {},
     "execution_count": 15
    }
   ],
   "source": [
    "# Dropping all rows with at least one null is not a good idea. \n",
    "# The df reduces to zero rows, as shown below.\n",
    "df.dropna(axis=0)  "
   ]
  },
  {
   "cell_type": "markdown",
   "metadata": {},
   "source": [
    "**TODO**\n",
    "* Evaluate removing all columns with at least one missing value\n"
   ]
  },
  {
   "cell_type": "code",
   "execution_count": 16,
   "metadata": {},
   "outputs": [
    {
     "output_type": "execute_result",
     "data": {
      "text/plain": [
       "(449371, 50)"
      ]
     },
     "metadata": {},
     "execution_count": 16
    }
   ],
   "source": [
    "# This makes more sense, since, after dropping, we have a solid df with 100% solid cols.\n",
    "# As we saw in the comparison above. \n",
    "remove_all_cols_with_at_least_one_missing_value(df).shape"
   ]
  },
  {
   "cell_type": "markdown",
   "metadata": {},
   "source": [
    "**TODO**\n",
    "* Compare the original dataframe and the filtered ones."
   ]
  },
  {
   "cell_type": "code",
   "execution_count": 17,
   "metadata": {},
   "outputs": [],
   "source": [
    "# df5:\n",
    "# The original df contains many cols with NaN values. In particular, 5 cols contain only null values. \n",
    "# and thus should be discarded immediately, or filled somewhow. The method for filling depends on the nature of the column.\n",
    "# For continous variables, where the records follow an order (for example timestamps, which can be sorted asc/desc) these can be\n",
    "# filled with the avg(previous, next value)\n",
    "# Both continous and categorical variables can be filled for example with some ML algorithm, by training on those rows that have the labels,\n",
    "# and predicting on those rows where the label is NaN. \n"
   ]
  },
  {
   "cell_type": "markdown",
   "metadata": {
    "_cell_guid": "1dbe153d-7b30-4ad8-80ad-a4c7fb53928e",
    "_uuid": "eb1ef8d47d9ebed77c3d21eca24708708ed4d45f"
   },
   "source": [
    "## Fill in missing values\n",
    "_____\n",
    "\n",
    "**TODO**\n",
    "\n",
    "* Select a subset of the dataset\n",
    "\n"
   ]
  },
  {
   "cell_type": "code",
   "execution_count": 18,
   "metadata": {},
   "outputs": [
    {
     "output_type": "stream",
     "name": "stdout",
     "text": [
      "The following cols contain only nulls and will be removed: ['lateral_sack_player_id', 'lateral_sack_player_name', 'assist_tackle_4_player_id', 'assist_tackle_4_player_name', 'assist_tackle_4_team']\n"
     ]
    }
   ],
   "source": [
    "# I pick df and make it leaner by dropping the unnecessary cols.  \n",
    "df = remove_cols_with_only_null_values(df)"
   ]
  },
  {
   "cell_type": "markdown",
   "metadata": {},
   "source": [
    "**TODO**\n",
    "* Evaluate replacing all NaNs with 0"
   ]
  },
  {
   "cell_type": "code",
   "execution_count": 19,
   "metadata": {},
   "outputs": [
    {
     "output_type": "execute_result",
     "data": {
      "text/plain": [
       "        play_id     game_id home_team away_team posteam posteam_type defteam  \\\n",
       "0            46  2009091000       PIT       TEN     PIT         home     TEN   \n",
       "1            68  2009091000       PIT       TEN     PIT         home     TEN   \n",
       "2            92  2009091000       PIT       TEN     PIT         home     TEN   \n",
       "3           113  2009091000       PIT       TEN     PIT         home     TEN   \n",
       "4           139  2009091000       PIT       TEN     PIT         home     TEN   \n",
       "...         ...         ...       ...       ...     ...          ...     ...   \n",
       "449366     4059  2018121700       CAR        NO     CAR         home      NO   \n",
       "449367     4081  2018121700       CAR        NO     CAR         home      NO   \n",
       "449368     4106  2018121700       CAR        NO     CAR         home      NO   \n",
       "449369     4128  2018121700       CAR        NO      NO         away     CAR   \n",
       "449370     4150  2018121700       CAR        NO       0            0       0   \n",
       "\n",
       "       side_of_field  yardline_100   game_date  ...  penalty_player_id  \\\n",
       "0                TEN          30.0  2009-09-10  ...                  0   \n",
       "1                PIT          58.0  2009-09-10  ...                  0   \n",
       "2                PIT          53.0  2009-09-10  ...                  0   \n",
       "3                PIT          56.0  2009-09-10  ...                  0   \n",
       "4                PIT          56.0  2009-09-10  ...                  0   \n",
       "...              ...           ...         ...  ...                ...   \n",
       "449366           CAR          66.0  2018-12-17  ...                  0   \n",
       "449367           CAR          66.0  2018-12-17  ...                  0   \n",
       "449368           CAR          61.0  2018-12-17  ...                  0   \n",
       "449369           CAR          39.0  2018-12-17  ...                  0   \n",
       "449370           CAR           0.0  2018-12-17  ...                  0   \n",
       "\n",
       "        penalty_player_name  penalty_yards replay_or_challenge  \\\n",
       "0                         0            0.0                   0   \n",
       "1                         0            0.0                   0   \n",
       "2                         0            0.0                   0   \n",
       "3                         0            0.0                   0   \n",
       "4                         0            0.0                   0   \n",
       "...                     ...            ...                 ...   \n",
       "449366                    0            0.0                   0   \n",
       "449367                    0            0.0                   0   \n",
       "449368                    0            0.0                   0   \n",
       "449369                    0            0.0                   0   \n",
       "449370                    0            0.0                   0   \n",
       "\n",
       "        replay_or_challenge_result  penalty_type  defensive_two_point_attempt  \\\n",
       "0                                0             0                          0.0   \n",
       "1                                0             0                          0.0   \n",
       "2                                0             0                          0.0   \n",
       "3                                0             0                          0.0   \n",
       "4                                0             0                          0.0   \n",
       "...                            ...           ...                          ...   \n",
       "449366                           0             0                          0.0   \n",
       "449367                           0             0                          0.0   \n",
       "449368                           0             0                          0.0   \n",
       "449369                           0             0                          0.0   \n",
       "449370                           0             0                          0.0   \n",
       "\n",
       "        defensive_two_point_conv  defensive_extra_point_attempt  \\\n",
       "0                            0.0                            0.0   \n",
       "1                            0.0                            0.0   \n",
       "2                            0.0                            0.0   \n",
       "3                            0.0                            0.0   \n",
       "4                            0.0                            0.0   \n",
       "...                          ...                            ...   \n",
       "449366                       0.0                            0.0   \n",
       "449367                       0.0                            0.0   \n",
       "449368                       0.0                            0.0   \n",
       "449369                       0.0                            0.0   \n",
       "449370                       0.0                            0.0   \n",
       "\n",
       "        defensive_extra_point_conv  \n",
       "0                              0.0  \n",
       "1                              0.0  \n",
       "2                              0.0  \n",
       "3                              0.0  \n",
       "4                              0.0  \n",
       "...                            ...  \n",
       "449366                         0.0  \n",
       "449367                         0.0  \n",
       "449368                         0.0  \n",
       "449369                         0.0  \n",
       "449370                         0.0  \n",
       "\n",
       "[449371 rows x 250 columns]"
      ],
      "text/html": "<div>\n<style scoped>\n    .dataframe tbody tr th:only-of-type {\n        vertical-align: middle;\n    }\n\n    .dataframe tbody tr th {\n        vertical-align: top;\n    }\n\n    .dataframe thead th {\n        text-align: right;\n    }\n</style>\n<table border=\"1\" class=\"dataframe\">\n  <thead>\n    <tr style=\"text-align: right;\">\n      <th></th>\n      <th>play_id</th>\n      <th>game_id</th>\n      <th>home_team</th>\n      <th>away_team</th>\n      <th>posteam</th>\n      <th>posteam_type</th>\n      <th>defteam</th>\n      <th>side_of_field</th>\n      <th>yardline_100</th>\n      <th>game_date</th>\n      <th>...</th>\n      <th>penalty_player_id</th>\n      <th>penalty_player_name</th>\n      <th>penalty_yards</th>\n      <th>replay_or_challenge</th>\n      <th>replay_or_challenge_result</th>\n      <th>penalty_type</th>\n      <th>defensive_two_point_attempt</th>\n      <th>defensive_two_point_conv</th>\n      <th>defensive_extra_point_attempt</th>\n      <th>defensive_extra_point_conv</th>\n    </tr>\n  </thead>\n  <tbody>\n    <tr>\n      <th>0</th>\n      <td>46</td>\n      <td>2009091000</td>\n      <td>PIT</td>\n      <td>TEN</td>\n      <td>PIT</td>\n      <td>home</td>\n      <td>TEN</td>\n      <td>TEN</td>\n      <td>30.0</td>\n      <td>2009-09-10</td>\n      <td>...</td>\n      <td>0</td>\n      <td>0</td>\n      <td>0.0</td>\n      <td>0</td>\n      <td>0</td>\n      <td>0</td>\n      <td>0.0</td>\n      <td>0.0</td>\n      <td>0.0</td>\n      <td>0.0</td>\n    </tr>\n    <tr>\n      <th>1</th>\n      <td>68</td>\n      <td>2009091000</td>\n      <td>PIT</td>\n      <td>TEN</td>\n      <td>PIT</td>\n      <td>home</td>\n      <td>TEN</td>\n      <td>PIT</td>\n      <td>58.0</td>\n      <td>2009-09-10</td>\n      <td>...</td>\n      <td>0</td>\n      <td>0</td>\n      <td>0.0</td>\n      <td>0</td>\n      <td>0</td>\n      <td>0</td>\n      <td>0.0</td>\n      <td>0.0</td>\n      <td>0.0</td>\n      <td>0.0</td>\n    </tr>\n    <tr>\n      <th>2</th>\n      <td>92</td>\n      <td>2009091000</td>\n      <td>PIT</td>\n      <td>TEN</td>\n      <td>PIT</td>\n      <td>home</td>\n      <td>TEN</td>\n      <td>PIT</td>\n      <td>53.0</td>\n      <td>2009-09-10</td>\n      <td>...</td>\n      <td>0</td>\n      <td>0</td>\n      <td>0.0</td>\n      <td>0</td>\n      <td>0</td>\n      <td>0</td>\n      <td>0.0</td>\n      <td>0.0</td>\n      <td>0.0</td>\n      <td>0.0</td>\n    </tr>\n    <tr>\n      <th>3</th>\n      <td>113</td>\n      <td>2009091000</td>\n      <td>PIT</td>\n      <td>TEN</td>\n      <td>PIT</td>\n      <td>home</td>\n      <td>TEN</td>\n      <td>PIT</td>\n      <td>56.0</td>\n      <td>2009-09-10</td>\n      <td>...</td>\n      <td>0</td>\n      <td>0</td>\n      <td>0.0</td>\n      <td>0</td>\n      <td>0</td>\n      <td>0</td>\n      <td>0.0</td>\n      <td>0.0</td>\n      <td>0.0</td>\n      <td>0.0</td>\n    </tr>\n    <tr>\n      <th>4</th>\n      <td>139</td>\n      <td>2009091000</td>\n      <td>PIT</td>\n      <td>TEN</td>\n      <td>PIT</td>\n      <td>home</td>\n      <td>TEN</td>\n      <td>PIT</td>\n      <td>56.0</td>\n      <td>2009-09-10</td>\n      <td>...</td>\n      <td>0</td>\n      <td>0</td>\n      <td>0.0</td>\n      <td>0</td>\n      <td>0</td>\n      <td>0</td>\n      <td>0.0</td>\n      <td>0.0</td>\n      <td>0.0</td>\n      <td>0.0</td>\n    </tr>\n    <tr>\n      <th>...</th>\n      <td>...</td>\n      <td>...</td>\n      <td>...</td>\n      <td>...</td>\n      <td>...</td>\n      <td>...</td>\n      <td>...</td>\n      <td>...</td>\n      <td>...</td>\n      <td>...</td>\n      <td>...</td>\n      <td>...</td>\n      <td>...</td>\n      <td>...</td>\n      <td>...</td>\n      <td>...</td>\n      <td>...</td>\n      <td>...</td>\n      <td>...</td>\n      <td>...</td>\n      <td>...</td>\n    </tr>\n    <tr>\n      <th>449366</th>\n      <td>4059</td>\n      <td>2018121700</td>\n      <td>CAR</td>\n      <td>NO</td>\n      <td>CAR</td>\n      <td>home</td>\n      <td>NO</td>\n      <td>CAR</td>\n      <td>66.0</td>\n      <td>2018-12-17</td>\n      <td>...</td>\n      <td>0</td>\n      <td>0</td>\n      <td>0.0</td>\n      <td>0</td>\n      <td>0</td>\n      <td>0</td>\n      <td>0.0</td>\n      <td>0.0</td>\n      <td>0.0</td>\n      <td>0.0</td>\n    </tr>\n    <tr>\n      <th>449367</th>\n      <td>4081</td>\n      <td>2018121700</td>\n      <td>CAR</td>\n      <td>NO</td>\n      <td>CAR</td>\n      <td>home</td>\n      <td>NO</td>\n      <td>CAR</td>\n      <td>66.0</td>\n      <td>2018-12-17</td>\n      <td>...</td>\n      <td>0</td>\n      <td>0</td>\n      <td>0.0</td>\n      <td>0</td>\n      <td>0</td>\n      <td>0</td>\n      <td>0.0</td>\n      <td>0.0</td>\n      <td>0.0</td>\n      <td>0.0</td>\n    </tr>\n    <tr>\n      <th>449368</th>\n      <td>4106</td>\n      <td>2018121700</td>\n      <td>CAR</td>\n      <td>NO</td>\n      <td>CAR</td>\n      <td>home</td>\n      <td>NO</td>\n      <td>CAR</td>\n      <td>61.0</td>\n      <td>2018-12-17</td>\n      <td>...</td>\n      <td>0</td>\n      <td>0</td>\n      <td>0.0</td>\n      <td>0</td>\n      <td>0</td>\n      <td>0</td>\n      <td>0.0</td>\n      <td>0.0</td>\n      <td>0.0</td>\n      <td>0.0</td>\n    </tr>\n    <tr>\n      <th>449369</th>\n      <td>4128</td>\n      <td>2018121700</td>\n      <td>CAR</td>\n      <td>NO</td>\n      <td>NO</td>\n      <td>away</td>\n      <td>CAR</td>\n      <td>CAR</td>\n      <td>39.0</td>\n      <td>2018-12-17</td>\n      <td>...</td>\n      <td>0</td>\n      <td>0</td>\n      <td>0.0</td>\n      <td>0</td>\n      <td>0</td>\n      <td>0</td>\n      <td>0.0</td>\n      <td>0.0</td>\n      <td>0.0</td>\n      <td>0.0</td>\n    </tr>\n    <tr>\n      <th>449370</th>\n      <td>4150</td>\n      <td>2018121700</td>\n      <td>CAR</td>\n      <td>NO</td>\n      <td>0</td>\n      <td>0</td>\n      <td>0</td>\n      <td>CAR</td>\n      <td>0.0</td>\n      <td>2018-12-17</td>\n      <td>...</td>\n      <td>0</td>\n      <td>0</td>\n      <td>0.0</td>\n      <td>0</td>\n      <td>0</td>\n      <td>0</td>\n      <td>0.0</td>\n      <td>0.0</td>\n      <td>0.0</td>\n      <td>0.0</td>\n    </tr>\n  </tbody>\n</table>\n<p>449371 rows × 250 columns</p>\n</div>"
     },
     "metadata": {},
     "execution_count": 19
    }
   ],
   "source": [
    "# Doesnt make much sense since many of the cols are of type \"object\", and contain strings.   \n",
    "# E.g. penalty_player_name, penalty_type, etc\n",
    "# A better idea would be replacing NaN with a string, like \"empty\" or \"no_data\" or similar.  \n",
    "df.fillna(0)"
   ]
  },
  {
   "cell_type": "markdown",
   "metadata": {},
   "source": [
    "**TODO**\n",
    "\n",
    "* Evaluate replacing all NaNs with the value of the next value in the same column\n"
   ]
  },
  {
   "cell_type": "code",
   "execution_count": 20,
   "metadata": {},
   "outputs": [
    {
     "output_type": "execute_result",
     "data": {
      "text/plain": [
       "   play_id     game_id home_team away_team posteam posteam_type defteam  \\\n",
       "0       46  2009091000       PIT       TEN     PIT         home     TEN   \n",
       "1       68  2009091000       PIT       TEN     PIT         home     TEN   \n",
       "2       92  2009091000       PIT       TEN     PIT         home     TEN   \n",
       "\n",
       "  side_of_field  yardline_100   game_date  ...  penalty_player_id  \\\n",
       "0           TEN          30.0  2009-09-10  ...                NaN   \n",
       "1           PIT          58.0  2009-09-10  ...                NaN   \n",
       "2           PIT          53.0  2009-09-10  ...                NaN   \n",
       "\n",
       "   penalty_player_name  penalty_yards replay_or_challenge  \\\n",
       "0                  NaN            NaN                   0   \n",
       "1                  NaN            NaN                   0   \n",
       "2                  NaN            NaN                   0   \n",
       "\n",
       "   replay_or_challenge_result  penalty_type  defensive_two_point_attempt  \\\n",
       "0                         NaN           NaN                          0.0   \n",
       "1                         NaN           NaN                          0.0   \n",
       "2                         NaN           NaN                          0.0   \n",
       "\n",
       "   defensive_two_point_conv  defensive_extra_point_attempt  \\\n",
       "0                       0.0                            0.0   \n",
       "1                       0.0                            0.0   \n",
       "2                       0.0                            0.0   \n",
       "\n",
       "   defensive_extra_point_conv  \n",
       "0                         0.0  \n",
       "1                         0.0  \n",
       "2                         0.0  \n",
       "\n",
       "[3 rows x 250 columns]"
      ],
      "text/html": "<div>\n<style scoped>\n    .dataframe tbody tr th:only-of-type {\n        vertical-align: middle;\n    }\n\n    .dataframe tbody tr th {\n        vertical-align: top;\n    }\n\n    .dataframe thead th {\n        text-align: right;\n    }\n</style>\n<table border=\"1\" class=\"dataframe\">\n  <thead>\n    <tr style=\"text-align: right;\">\n      <th></th>\n      <th>play_id</th>\n      <th>game_id</th>\n      <th>home_team</th>\n      <th>away_team</th>\n      <th>posteam</th>\n      <th>posteam_type</th>\n      <th>defteam</th>\n      <th>side_of_field</th>\n      <th>yardline_100</th>\n      <th>game_date</th>\n      <th>...</th>\n      <th>penalty_player_id</th>\n      <th>penalty_player_name</th>\n      <th>penalty_yards</th>\n      <th>replay_or_challenge</th>\n      <th>replay_or_challenge_result</th>\n      <th>penalty_type</th>\n      <th>defensive_two_point_attempt</th>\n      <th>defensive_two_point_conv</th>\n      <th>defensive_extra_point_attempt</th>\n      <th>defensive_extra_point_conv</th>\n    </tr>\n  </thead>\n  <tbody>\n    <tr>\n      <th>0</th>\n      <td>46</td>\n      <td>2009091000</td>\n      <td>PIT</td>\n      <td>TEN</td>\n      <td>PIT</td>\n      <td>home</td>\n      <td>TEN</td>\n      <td>TEN</td>\n      <td>30.0</td>\n      <td>2009-09-10</td>\n      <td>...</td>\n      <td>NaN</td>\n      <td>NaN</td>\n      <td>NaN</td>\n      <td>0</td>\n      <td>NaN</td>\n      <td>NaN</td>\n      <td>0.0</td>\n      <td>0.0</td>\n      <td>0.0</td>\n      <td>0.0</td>\n    </tr>\n    <tr>\n      <th>1</th>\n      <td>68</td>\n      <td>2009091000</td>\n      <td>PIT</td>\n      <td>TEN</td>\n      <td>PIT</td>\n      <td>home</td>\n      <td>TEN</td>\n      <td>PIT</td>\n      <td>58.0</td>\n      <td>2009-09-10</td>\n      <td>...</td>\n      <td>NaN</td>\n      <td>NaN</td>\n      <td>NaN</td>\n      <td>0</td>\n      <td>NaN</td>\n      <td>NaN</td>\n      <td>0.0</td>\n      <td>0.0</td>\n      <td>0.0</td>\n      <td>0.0</td>\n    </tr>\n    <tr>\n      <th>2</th>\n      <td>92</td>\n      <td>2009091000</td>\n      <td>PIT</td>\n      <td>TEN</td>\n      <td>PIT</td>\n      <td>home</td>\n      <td>TEN</td>\n      <td>PIT</td>\n      <td>53.0</td>\n      <td>2009-09-10</td>\n      <td>...</td>\n      <td>NaN</td>\n      <td>NaN</td>\n      <td>NaN</td>\n      <td>0</td>\n      <td>NaN</td>\n      <td>NaN</td>\n      <td>0.0</td>\n      <td>0.0</td>\n      <td>0.0</td>\n      <td>0.0</td>\n    </tr>\n  </tbody>\n</table>\n<p>3 rows × 250 columns</p>\n</div>"
     },
     "metadata": {},
     "execution_count": 20
    }
   ],
   "source": [
    "# This make sense for continous variables, and if the records are ordered. Not categorical variables or things like player name. \n",
    "# Example: filling a missing penalty_player_name with \"E.Monroe\" makes no sense at all, and will severely decrease the quality of the data,\n",
    "# as this player will now have wrong data points associated with him.  \n",
    "df.fillna(method='ffill').head(3)"
   ]
  },
  {
   "cell_type": "markdown",
   "metadata": {},
   "source": [
    "**TODO**\n",
    "* Compare the original dataframe and the one with the filled NaNs"
   ]
  },
  {
   "cell_type": "code",
   "execution_count": 21,
   "metadata": {},
   "outputs": [
    {
     "output_type": "execute_result",
     "data": {
      "text/plain": [
       "  1793.0                  3593.0     Half1            0   \n",
       "2                  1756.0                  3556.0     Half1            0   \n",
       "\n",
       "   drive  sp  qtr  down  goal_to_go   time   yrdln  ydstogo  ydsnet  \\\n",
       "0      1   0    1   NaN         0.0  15:00  TEN 30        0       0   \n",
       "1      1   0    1   1.0         0.0  14:53  PIT 42       10       5   \n",
       "2      1   0    1   2.0         0.0  14:16  PIT 47        5       2   \n",
       "\n",
       "                                                desc play_type  yards_gained  \\\n",
       "0  R.Bironas kicks 67 yards from TEN 30 to PIT 3....   kickoff           0.0   \n",
       "1  (14:53) B.Roethlisberger pass short left to H....      pass           5.0   \n",
       "2  (14:16) W.Parker right end to PIT 44 for -3 ya...       run          -3.0   \n",
       "\n",
       "   shotgun  no_huddle  qb_dropback  qb_kneel  qb_spike  qb_scramble  \\\n",
       "0        0          0          0.0         0         0            0   \n",
       "1        0          0          1.0         0         0            0   \n",
       "2        0          0          0.0         0         0            0   \n",
       "\n",
       "  pass_length pass_location  air_yards  yards_after_catch run_location  \\\n",
       "0         NaN           NaN        NaN                NaN          NaN   \n",
       "1       short          left       -3.0                8.0          NaN   \n",
       "2         NaN           NaN        NaN                NaN        right   \n",
       "\n",
       "  run_gap field_goal_result  kick_distance extra_point_result  \\\n",
       "0     NaN               NaN           67.0                NaN   \n",
       "1     NaN               NaN            NaN                NaN   \n",
       "2     end               NaN            NaN                NaN   \n",
       "\n",
       "  two_point_conv_result  home_timeouts_remaining  away_timeouts_remaining  \\\n",
       "0                   NaN                        3                        3   \n",
       "1                   NaN                        3                        3   \n",
       "2                   NaN                        3                        3   \n",
       "\n",
       "   timeout timeout_team td_team  posteam_timeouts_remaining  \\\n",
       "0      0.0          NaN     NaN                         3.0   \n",
       "1      0.0          NaN     NaN                         3.0   \n",
       "2      0.0          NaN     NaN                         3.0   \n",
       "\n",
       "   defteam_timeouts_remaining  total_home_score  total_away_score  \\\n",
       "0                         3.0                 0                 0   \n",
       "1                         3.0                 0                 0   \n",
       "2                         3.0                 0                 0   \n",
       "\n",
       "   posteam_score  defteam_score  score_differential  posteam_score_post  \\\n",
       "0            NaN            NaN                 NaN                 0.0   \n",
       "1            0.0            0.0                 0.0                 0.0   \n",
       "2            0.0            0.0                 0.0                 0.0   \n",
       "\n",
       "   defteam_score_post  score_differential_post  no_score_prob  opp_fg_prob  \\\n",
       "0                 0.0                      0.0       0.001506     0.179749   \n",
       "1                 0.0                      0.0       0.000969     0.108505   \n",
       "2                 0.0                      0.0       0.001057     0.105106   \n",
       "\n",
       "   opp_safety_prob  opp_td_prob   fg_prob  safety_prob   td_prob  \\\n",
       "0         0.006639     0.281138  0.213700     0.003592  0.313676   \n",
       "1         0.001061     0.169117  0.293700     0.003638  0.423011   \n",
       "2         0.000981     0.162747  0.304805     0.003826  0.421478   \n",
       "\n",
       "   extra_point_prob  two_point_conversion_prob        ep       epa  \\\n",
       "0               0.0                        0.0  0.323526  2.014474   \n",
       "1               0.0                        0.0  2.338000  0.077907   \n",
       "2               0.0                        0.0  2.415907 -1.402760   \n",
       "\n",
       "   total_home_epa  total_away_epa  total_home_rush_epa  total_away_rush_epa  \\\n",
       "0        2.014474       -2.014474              0.00000              0.00000   \n",
       "1        2.092381       -2.092381              0.00000              0.00000   \n",
       "2        0.689621       -0.689621             -1.40276              1.40276   \n",
       "\n",
       "   total_home_pass_epa  total_away_pass_epa   air_epa   yac_epa  comp_air_epa  \\\n",
       "0             0.000000             0.000000       NaN       NaN      0.000000   \n",
       "1             0.077907            -0.077907 -0.938735  1.016643     -0.938735   \n",
       "2             0.077907            -0.077907       NaN       NaN      0.000000   \n",
       "\n",
       "   comp_yac_epa  total_home_comp_air_epa  total_away_comp_air_epa  \\\n",
       "0      0.000000                 0.000000                 0.000000   \n",
       "1      1.016643                -0.938735                 0.938735   \n",
       "2      0.000000                -0.938735                 0.938735   \n",
       "\n",
       "   total_home_comp_yac_epa  total_away_comp_yac_epa  total_home_raw_air_epa  \\\n",
       "0                 0.000000                 0.000000                0.000000   \n",
       "1                 1.016643                -1.016643               -0.938735   \n",
       "2                 1.016643                -1.016643               -0.938735   \n",
       "\n",
       "   total_away_raw_air_epa  total_home_raw_yac_epa  total_away_raw_yac_epa  \\\n",
       "0                0.000000                0.000000                0.000000   \n",
       "1                0.938735                1.016643               -1.016643   \n",
       "2                0.938735                1.016643               -1.016643   \n",
       "\n",
       "         wp    def_wp   home_wp   away_wp       wpa  home_wp_post  \\\n",
       "0       NaN       NaN       NaN       NaN       NaN           NaN   \n",
       "1  0.546433  0.453567  0.546433  0.453567  0.004655      0.551088   \n",
       "2  0.551088  0.448912  0.551088  0.448912 -0.040295      0.510793   \n",
       "\n",
       "   away_wp_post  total_home_rush_wpa  total_away_rush_wpa  \\\n",
       "0           NaN             0.000000             0.000000   \n",
       "1      0.448912             0.000000             0.000000   \n",
       "2      0.489207            -0.040295             0.040295   \n",
       "\n",
       "   total_home_pass_wpa  total_away_pass_wpa   air_wpa   yac_wpa  comp_air_wpa  \\\n",
       "0             0.000000             0.000000       NaN       NaN      0.000000   \n",
       "1             0.004655            -0.004655 -0.028383  0.033038     -0.028383   \n",
       "2             0.004655            -0.004655       NaN       NaN      0.000000   \n",
       "\n",
       "   comp_yac_wpa  total_home_comp_air_wpa  total_away_comp_air_wpa  \\\n",
       "0      0.000000                 0.000000                 0.000000   \n",
       "1      0.033038                -0.028383                 0.028383   \n",
       "2      0.000000                -0.028383                 0.028383   \n",
       "\n",
       "   total_home_comp_yac_wpa  total_away_comp_yac_wpa  total_home_raw_air_wpa  \\\n",
       "0                 0.000000                 0.000000                0.000000   \n",
       "1                 0.033038                -0.033038               -0.028383   \n",
       "2                 0.033038                -0.033038               -0.028383   \n",
       "\n",
       "   total_away_raw_air_wpa  total_home_raw_yac_wpa  total_away_raw_yac_wpa  \\\n",
       "0                0.000000                0.000000                0.000000   \n",
       "1                0.028383                0.033038               -0.033038   \n",
       "2                0.028383                0.033038               -0.033038   \n",
       "\n",
       "   punt_blocked  first_down_rush  first_down_pass  first_down_penalty  \\\n",
       "0           0.0              0.0              0.0                 0.0   \n",
       "1           0.0              0.0              0.0                 0.0   \n",
       "2           0.0              0.0              0.0                 0.0   \n",
       "\n",
       "   third_down_converted  third_down_failed  fourth_down_converted  \\\n",
       "0                   0.0                0.0                    0.0   \n",
       "1                   0.0                0.0                    0.0   \n",
       "2                   0.0                0.0                    0.0   \n",
       "\n",
       "   fourth_down_failed  incomplete_pass  interception  punt_inside_twenty  \\\n",
       "0                 0.0              0.0           0.0                 0.0   \n",
       "1                 0.0              0.0           0.0                 0.0   \n",
       "2                 0.0              0.0           0.0                 0.0   \n",
       "\n",
       "   punt_in_endzone  punt_out_of_bounds  punt_downed  punt_fair_catch  \\\n",
       "0              0.0                 0.0          0.0              0.0   \n",
       "1              0.0                 0.0          0.0              0.0   \n",
       "2              0.0                 0.0          0.0              0.0   \n",
       "\n",
       "   kickoff_inside_twenty  kickoff_in_endzone  kickoff_out_of_bounds  \\\n",
       "0                    0.0                 0.0                    0.0   \n",
       "1                    0.0                 0.0                    0.0   \n",
       "2                    0.0                 0.0                    0.0   \n",
       "\n",
       "   kickoff_downed  kickoff_fair_catch  fumble_forced  fumble_not_forced  \\\n",
       "0             0.0                 0.0            0.0                0.0   \n",
       "1             0.0                 0.0            0.0                0.0   \n",
       "2             0.0                 0.0            0.0                0.0   \n",
       "\n",
       "   fumble_out_of_bounds  solo_tackle  safety  penalty  tackled_for_loss  \\\n",
       "0                   0.0          1.0     0.0      0.0               0.0   \n",
       "1                   0.0          1.0     0.0      0.0               0.0   \n",
       "2                   0.0          1.0     0.0      0.0               1.0   \n",
       "\n",
       "   fumble_lost  own_kickoff_recovery  own_kickoff_recovery_td  qb_hit  \\\n",
       "0          0.0                   0.0                      0.0     0.0   \n",
       "1          0.0                   0.0                      0.0     0.0   \n",
       "2          0.0                   0.0                      0.0     0.0   \n",
       "\n",
       "   rush_attempt  pass_attempt  sack  touchdown  pass_touchdown  \\\n",
       "0           0.0           0.0   0.0        0.0             0.0   \n",
       "1           0.0           1.0   0.0        0.0             0.0   \n",
       "2           1.0           0.0   0.0        0.0             0.0   \n",
       "\n",
       "   rush_touchdown  return_touchdown  extra_point_attempt  two_point_attempt  \\\n",
       "0             0.0               0.0                  0.0                0.0   \n",
       "1             0.0               0.0                  0.0                0.0   \n",
       "2             0.0               0.0                  0.0                0.0   \n",
       "\n",
       "   field_goal_attempt  kickoff_attempt  punt_attempt  fumble  complete_pass  \\\n",
       "0                 0.0              1.0           0.0     0.0            0.0   \n",
       "1                 0.0              0.0           0.0     0.0            1.0   \n",
       "2                 0.0              0.0           0.0     0.0            0.0   \n",
       "\n",
       "   assist_tackle  lateral_reception  lateral_rush  lateral_return  \\\n",
       "0            0.0                0.0           0.0             0.0   \n",
       "1            0.0                0.0           0.0             0.0   \n",
       "2            0.0                0.0           0.0             0.0   \n",
       "\n",
       "   lateral_recovery passer_player_id passer_player_name receiver_player_id  \\\n",
       "0               0.0              NaN                NaN                NaN   \n",
       "1               0.0       00-0022924   B.Roethlisberger         00-0017162   \n",
       "2               0.0              NaN                NaN                NaN   \n",
       "\n",
       "  receiver_player_name rusher_player_id rusher_player_name  \\\n",
       "0                  NaN              NaN                NaN   \n",
       "1               H.Ward              NaN                NaN   \n",
       "2                  NaN       00-0022250           W.Parker   \n",
       "\n",
       "  lateral_receiver_player_id lateral_receiver_player_name  \\\n",
       "0                        NaN                          NaN   \n",
       "1                        NaN                          NaN   \n",
       "2                        NaN                          NaN   \n",
       "\n",
       "  lateral_rusher_player_id lateral_rusher_player_name interception_player_id  \\\n",
       "0                      NaN                        NaN                    NaN   \n",
       "1                      NaN                        NaN                    NaN   \n",
       "2                      NaN                        NaN                    NaN   \n",
       "\n",
       "  interception_player_name lateral_interception_player_id  \\\n",
       "0                      NaN                            NaN   \n",
       "1                      NaN                            NaN   \n",
       "2                      NaN                            NaN   \n",
       "\n",
       "  lateral_interception_player_name punt_returner_player_id  \\\n",
       "0                              NaN                     NaN   \n",
       "1                              NaN                     NaN   \n",
       "2                              NaN                     NaN   \n",
       "\n",
       "  punt_returner_player_name lateral_punt_returner_player_id  \\\n",
       "0                       NaN                             NaN   \n",
       "1                       NaN                             NaN   \n",
       "2                       NaN                             NaN   \n",
       "\n",
       "  lateral_punt_returner_player_name kickoff_returner_player_name  \\\n",
       "0                               NaN                      S.Logan   \n",
       "1                               NaN                          NaN   \n",
       "2                               NaN                          NaN   \n",
       "\n",
       "  kickoff_returner_player_id lateral_kickoff_returner_player_id  \\\n",
       "0                 00-0026491                                NaN   \n",
       "1                        NaN                                NaN   \n",
       "2                        NaN                                NaN   \n",
       "\n",
       "  lateral_kickoff_returner_player_name punter_player_id punter_player_name  \\\n",
       "0                                  NaN              NaN                NaN   \n",
       "1                                  NaN              NaN                NaN   \n",
       "2                                  NaN              NaN                NaN   \n",
       "\n",
       "  kicker_player_name kicker_player_id own_kickoff_recovery_player_id  \\\n",
       "0          R.Bironas       00-0020962                            NaN   \n",
       "1                NaN              NaN                            NaN   \n",
       "2                NaN              NaN                            NaN   \n",
       "\n",
       "  own_kickoff_recovery_player_name blocked_player_id blocked_player_name  \\\n",
       "0                              NaN               NaN                 NaN   \n",
       "1                              NaN               NaN                 NaN   \n",
       "2                              NaN               NaN                 NaN   \n",
       "\n",
       "  tackle_for_loss_1_player_id tackle_for_loss_1_player_name  \\\n",
       "0                         NaN                           NaN   \n",
       "1                         NaN                           NaN   \n",
       "2                  00-0024331                     S.Tulloch   \n",
       "\n",
       "  tackle_for_loss_2_player_id tackle_for_loss_2_player_name  \\\n",
       "0                         NaN                           NaN   \n",
       "1                         NaN                           NaN   \n",
       "2                         NaN                           NaN   \n",
       "\n",
       "  qb_hit_1_player_id qb_hit_1_player_name qb_hit_2_player_id  \\\n",
       "0                NaN                  NaN                NaN   \n",
       "1                NaN                  NaN                NaN   \n",
       "2                NaN                  NaN                NaN   \n",
       "\n",
       "  qb_hit_2_player_name forced_fumble_player_1_team  \\\n",
       "0                  NaN                         NaN   \n",
       "1                  NaN                         NaN   \n",
       "2                  NaN                         NaN   \n",
       "\n",
       "  forced_fumble_player_1_player_id forced_fumble_player_1_player_name  \\\n",
       "0                              NaN                                NaN   \n",
       "1                              NaN                                NaN   \n",
       "2                              NaN                                NaN   \n",
       "\n",
       "  forced_fumble_player_2_team forced_fumble_player_2_player_id  \\\n",
       "0                         NaN                              NaN   \n",
       "1                         NaN                              NaN   \n",
       "2                         NaN                              NaN   \n",
       "\n",
       "  forced_fumble_player_2_player_name solo_tackle_1_team solo_tackle_2_team  \\\n",
       "0                                NaN                TEN                NaN   \n",
       "1                                NaN                TEN                NaN   \n",
       "2                                NaN                TEN                NaN   \n",
       "\n",
       "  solo_tackle_1_player_id solo_tackle_2_player_id solo_tackle_1_player_name  \\\n",
       "0              00-0025406                     NaN                 M.Griffin   \n",
       "1              00-0021219                     NaN                    C.Hope   \n",
       "2              00-0024331                     NaN                 S.Tulloch   \n",
       "\n",
       "  solo_tackle_2_player_name assist_tackle_1_player_id  \\\n",
       "0                       NaN                       NaN   \n",
       "1                       NaN                       NaN   \n",
       "2                       NaN                       NaN   \n",
       "\n",
       "  assist_tackle_1_player_name assist_tackle_1_team assist_tackle_2_player_id  \\\n",
       "0                         NaN                  NaN                       NaN   \n",
       "1                         NaN                  NaN                       NaN   \n",
       "2                         NaN                  NaN                       NaN   \n",
       "\n",
       "  assist_tackle_2_player_name assist_tackle_2_team assist_tackle_3_player_id  \\\n",
       "0                         NaN                  NaN                       NaN   \n",
       "1                         NaN                  NaN                       NaN   \n",
       "2                         NaN                  NaN                       NaN   \n",
       "\n",
       "  assist_tackle_3_player_name assist_tackle_3_team pass_defense_1_player_id  \\\n",
       "0                         NaN                  NaN                      NaN   \n",
       "1                         NaN                  NaN                      NaN   \n",
       "2                         NaN                  NaN                      NaN   \n",
       "\n",
       "  pass_defense_1_player_name pass_defense_2_player_id  \\\n",
       "0                        NaN                      NaN   \n",
       "1                        NaN                      NaN   \n",
       "2                        NaN                      NaN   \n",
       "\n",
       "  pass_defense_2_player_name fumbled_1_team fumbled_1_player_id  \\\n",
       "0                        NaN            NaN                 NaN   \n",
       "1                        NaN            NaN                 NaN   \n",
       "2                        NaN            NaN                 NaN   \n",
       "\n",
       "  fumbled_1_player_name fumbled_2_player_id fumbled_2_player_name  \\\n",
       "0                   NaN                 NaN                   NaN   \n",
       "1                   NaN                 NaN                   NaN   \n",
       "2                   NaN                 NaN                   NaN   \n",
       "\n",
       "  fumbled_2_team fumble_recovery_1_team  fumble_recovery_1_yards  \\\n",
       "0            NaN                    NaN                      NaN   \n",
       "1            NaN                    NaN                      NaN   \n",
       "2            NaN                    NaN                      NaN   \n",
       "\n",
       "  fumble_recovery_1_player_id fumble_recovery_1_player_name  \\\n",
       "0                         NaN                           NaN   \n",
       "1                         NaN                           NaN   \n",
       "2                         NaN                           NaN   \n",
       "\n",
       "  fumble_recovery_2_team  fumble_recovery_2_yards fumble_recovery_2_player_id  \\\n",
       "0                    NaN                      NaN                         NaN   \n",
       "1                    NaN                      NaN                         NaN   \n",
       "2                    NaN                      NaN                         NaN   \n",
       "\n",
       "  fumble_recovery_2_player_name return_team  return_yards penalty_team  \\\n",
       "0                           NaN         PIT          39.0          NaN   \n",
       "1                           NaN         NaN           0.0          NaN   \n",
       "2                           NaN         NaN           0.0          NaN   \n",
       "\n",
       "  penalty_player_id penalty_player_name  penalty_yards  replay_or_challenge  \\\n",
       "0               NaN                 NaN            NaN                    0   \n",
       "1               NaN                 NaN            NaN                    0   \n",
       "2               NaN                 NaN            NaN                    0   \n",
       "\n",
       "  replay_or_challenge_result penalty_type  defensive_two_point_attempt  \\\n",
       "0                        NaN          NaN                          0.0   \n",
       "1                        NaN          NaN                          0.0   \n",
       "2                        NaN          NaN                          0.0   \n",
       "\n",
       "   defensive_two_point_conv  defensive_extra_point_attempt  \\\n",
       "0                       0.0                            0.0   \n",
       "1                       0.0                            0.0   \n",
       "2                       0.0                            0.0   \n",
       "\n",
       "   defensive_extra_point_conv  \n",
       "0                         0.0  \n",
       "1                         0.0  \n",
       "2                         0.0  "
      ],
      "text/html": "<div>\n<style scoped>\n    .dataframe tbody tr th:only-of-type {\n        vertical-align: middle;\n    }\n\n    .dataframe tbody tr th {\n        vertical-align: top;\n    }\n\n    .dataframe thead th {\n        text-align: right;\n    }\n</style>\n<table border=\"1\" class=\"dataframe\">\n  <thead>\n    <tr style=\"text-align: right;\">\n      <th></th>\n      <th>play_id</th>\n      <th>game_id</th>\n      <th>home_team</th>\n      <th>away_team</th>\n      <th>posteam</th>\n      <th>posteam_type</th>\n      <th>defteam</th>\n      <th>side_of_field</th>\n      <th>yardline_100</th>\n      <th>game_date</th>\n      <th>quarter_seconds_remaining</th>\n      <th>half_seconds_remaining</th>\n      <th>game_seconds_remaining</th>\n      <th>game_half</th>\n      <th>quarter_end</th>\n      <th>drive</th>\n      <th>sp</th>\n      <th>qtr</th>\n      <th>down</th>\n      <th>goal_to_go</th>\n      <th>time</th>\n      <th>yrdln</th>\n      <th>ydstogo</th>\n      <th>ydsnet</th>\n      <th>desc</th>\n      <th>play_type</th>\n      <th>yards_gained</th>\n      <th>shotgun</th>\n      <th>no_huddle</th>\n      <th>qb_dropback</th>\n      <th>qb_kneel</th>\n      <th>qb_spike</th>\n      <th>qb_scramble</th>\n      <th>pass_length</th>\n      <th>pass_location</th>\n      <th>air_yards</th>\n      <th>yards_after_catch</th>\n      <th>run_location</th>\n      <th>run_gap</th>\n      <th>field_goal_result</th>\n      <th>kick_distance</th>\n      <th>extra_point_result</th>\n      <th>two_point_conv_result</th>\n      <th>home_timeouts_remaining</th>\n      <th>away_timeouts_remaining</th>\n      <th>timeout</th>\n      <th>timeout_team</th>\n      <th>td_team</th>\n      <th>posteam_timeouts_remaining</th>\n      <th>defteam_timeouts_remaining</th>\n      <th>total_home_score</th>\n      <th>total_away_score</th>\n      <th>posteam_score</th>\n      <th>defteam_score</th>\n      <th>score_differential</th>\n      <th>posteam_score_post</th>\n      <th>defteam_score_post</th>\n      <th>score_differential_post</th>\n      <th>no_score_prob</th>\n      <th>opp_fg_prob</th>\n      <th>opp_safety_prob</th>\n      <th>opp_td_prob</th>\n      <th>fg_prob</th>\n      <th>safety_prob</th>\n      <th>td_prob</th>\n      <th>extra_point_prob</th>\n      <th>two_point_conversion_prob</th>\n      <th>ep</th>\n      <th>epa</th>\n      <th>total_home_epa</th>\n      <th>total_away_epa</th>\n      <th>total_home_rush_epa</th>\n      <th>total_away_rush_epa</th>\n      <th>total_home_pass_epa</th>\n      <th>total_away_pass_epa</th>\n      <th>air_epa</th>\n      <th>yac_epa</th>\n      <th>comp_air_epa</th>\n      <th>comp_yac_epa</th>\n      <th>total_home_comp_air_epa</th>\n      <th>total_away_comp_air_epa</th>\n      <th>total_home_comp_yac_epa</th>\n      <th>total_away_comp_yac_epa</th>\n      <th>total_home_raw_air_epa</th>\n      <th>total_away_raw_air_epa</th>\n      <th>total_home_raw_yac_epa</th>\n      <th>total_away_raw_yac_epa</th>\n      <th>wp</th>\n      <th>def_wp</th>\n      <th>home_wp</th>\n      <th>away_wp</th>\n      <th>wpa</th>\n      <th>home_wp_post</th>\n      <th>away_wp_post</th>\n      <th>total_home_rush_wpa</th>\n      <th>total_away_rush_wpa</th>\n      <th>total_home_pass_wpa</th>\n      <th>total_away_pass_wpa</th>\n      <th>air_wpa</th>\n      <th>yac_wpa</th>\n      <th>comp_air_wpa</th>\n      <th>comp_yac_wpa</th>\n      <th>total_home_comp_air_wpa</th>\n      <th>total_away_comp_air_wpa</th>\n      <th>total_home_comp_yac_wpa</th>\n      <th>total_away_comp_yac_wpa</th>\n      <th>total_home_raw_air_wpa</th>\n      <th>total_away_raw_air_wpa</th>\n      <th>total_home_raw_yac_wpa</th>\n      <th>total_away_raw_yac_wpa</th>\n      <th>punt_blocked</th>\n      <th>first_down_rush</th>\n      <th>first_down_pass</th>\n      <th>first_down_penalty</th>\n      <th>third_down_converted</th>\n      <th>third_down_failed</th>\n      <th>fourth_down_converted</th>\n      <th>fourth_down_failed</th>\n      <th>incomplete_pass</th>\n      <th>interception</th>\n      <th>punt_inside_twenty</th>\n      <th>punt_in_endzone</th>\n      <th>punt_out_of_bounds</th>\n      <th>punt_downed</th>\n      <th>punt_fair_catch</th>\n      <th>kickoff_inside_twenty</th>\n      <th>kickoff_in_endzone</th>\n      <th>kickoff_out_of_bounds</th>\n      <th>kickoff_downed</th>\n      <th>kickoff_fair_catch</th>\n      <th>fumble_forced</th>\n      <th>fumble_not_forced</th>\n      <th>fumble_out_of_bounds</th>\n      <th>solo_tackle</th>\n      <th>safety</th>\n      <th>penalty</th>\n      <th>tackled_for_loss</th>\n      <th>fumble_lost</th>\n      <th>own_kickoff_recovery</th>\n      <th>own_kickoff_recovery_td</th>\n      <th>qb_hit</th>\n      <th>rush_attempt</th>\n      <th>pass_attempt</th>\n      <th>sack</th>\n      <th>touchdown</th>\n      <th>pass_touchdown</th>\n      <th>rush_touchdown</th>\n      <th>return_touchdown</th>\n      <th>extra_point_attempt</th>\n      <th>two_point_attempt</th>\n      <th>field_goal_attempt</th>\n      <th>kickoff_attempt</th>\n      <th>punt_attempt</th>\n      <th>fumble</th>\n      <th>complete_pass</th>\n      <th>assist_tackle</th>\n      <th>lateral_reception</th>\n      <th>lateral_rush</th>\n      <th>lateral_return</th>\n      <th>lateral_recovery</th>\n      <th>passer_player_id</th>\n      <th>passer_player_name</th>\n      <th>receiver_player_id</th>\n      <th>receiver_player_name</th>\n      <th>rusher_player_id</th>\n      <th>rusher_player_name</th>\n      <th>lateral_receiver_player_id</th>\n      <th>lateral_receiver_player_name</th>\n      <th>lateral_rusher_player_id</th>\n      <th>lateral_rusher_player_name</th>\n      <th>interception_player_id</th>\n      <th>interception_player_name</th>\n      <th>lateral_interception_player_id</th>\n      <th>lateral_interception_player_name</th>\n      <th>punt_returner_player_id</th>\n      <th>punt_returner_player_name</th>\n      <th>lateral_punt_returner_player_id</th>\n      <th>lateral_punt_returner_player_name</th>\n      <th>kickoff_returner_player_name</th>\n      <th>kickoff_returner_player_id</th>\n      <th>lateral_kickoff_returner_player_id</th>\n      <th>lateral_kickoff_returner_player_name</th>\n      <th>punter_player_id</th>\n      <th>punter_player_name</th>\n      <th>kicker_player_name</th>\n      <th>kicker_player_id</th>\n      <th>own_kickoff_recovery_player_id</th>\n      <th>own_kickoff_recovery_player_name</th>\n      <th>blocked_player_id</th>\n      <th>blocked_player_name</th>\n      <th>tackle_for_loss_1_player_id</th>\n      <th>tackle_for_loss_1_player_name</th>\n      <th>tackle_for_loss_2_player_id</th>\n      <th>tackle_for_loss_2_player_name</th>\n      <th>qb_hit_1_player_id</th>\n      <th>qb_hit_1_player_name</th>\n      <th>qb_hit_2_player_id</th>\n      <th>qb_hit_2_player_name</th>\n      <th>forced_fumble_player_1_team</th>\n      <th>forced_fumble_player_1_player_id</th>\n      <th>forced_fumble_player_1_player_name</th>\n      <th>forced_fumble_player_2_team</th>\n      <th>forced_fumble_player_2_player_id</th>\n      <th>forced_fumble_player_2_player_name</th>\n      <th>solo_tackle_1_team</th>\n      <th>solo_tackle_2_team</th>\n      <th>solo_tackle_1_player_id</th>\n      <th>solo_tackle_2_player_id</th>\n      <th>solo_tackle_1_player_name</th>\n      <th>solo_tackle_2_player_name</th>\n      <th>assist_tackle_1_player_id</th>\n      <th>assist_tackle_1_player_name</th>\n      <th>assist_tackle_1_team</th>\n      <th>assist_tackle_2_player_id</th>\n      <th>assist_tackle_2_player_name</th>\n      <th>assist_tackle_2_team</th>\n      <th>assist_tackle_3_player_id</th>\n      <th>assist_tackle_3_player_name</th>\n      <th>assist_tackle_3_team</th>\n      <th>pass_defense_1_player_id</th>\n      <th>pass_defense_1_player_name</th>\n      <th>pass_defense_2_player_id</th>\n      <th>pass_defense_2_player_name</th>\n      <th>fumbled_1_team</th>\n      <th>fumbled_1_player_id</th>\n      <th>fumbled_1_player_name</th>\n      <th>fumbled_2_player_id</th>\n      <th>fumbled_2_player_name</th>\n      <th>fumbled_2_team</th>\n      <th>fumble_recovery_1_team</th>\n      <th>fumble_recovery_1_yards</th>\n      <th>fumble_recovery_1_player_id</th>\n      <th>fumble_recovery_1_player_name</th>\n      <th>fumble_recovery_2_team</th>\n      <th>fumble_recovery_2_yards</th>\n      <th>fumble_recovery_2_player_id</th>\n      <th>fumble_recovery_2_player_name</th>\n      <th>return_team</th>\n      <th>return_yards</th>\n      <th>penalty_team</th>\n      <th>penalty_player_id</th>\n      <th>penalty_player_name</th>\n      <th>penalty_yards</th>\n      <th>replay_or_challenge</th>\n      <th>replay_or_challenge_result</th>\n      <th>penalty_type</th>\n      <th>defensive_two_point_attempt</th>\n      <th>defensive_two_point_conv</th>\n      <th>defensive_extra_point_attempt</th>\n      <th>defensive_extra_point_conv</th>\n    </tr>\n  </thead>\n  <tbody>\n    <tr>\n      <th>0</th>\n      <td>46</td>\n      <td>2009091000</td>\n      <td>PIT</td>\n      <td>TEN</td>\n      <td>PIT</td>\n      <td>home</td>\n      <td>TEN</td>\n      <td>TEN</td>\n      <td>30.0</td>\n      <td>2009-09-10</td>\n      <td>900.0</td>\n      <td>1800.0</td>\n      <td>3600.0</td>\n      <td>Half1</td>\n      <td>0</td>\n      <td>1</td>\n      <td>0</td>\n      <td>1</td>\n      <td>NaN</td>\n      <td>0.0</td>\n      <td>15:00</td>\n      <td>TEN 30</td>\n      <td>0</td>\n      <td>0</td>\n      <td>R.Bironas kicks 67 yards from TEN 30 to PIT 3....</td>\n      <td>kickoff</td>\n      <td>0.0</td>\n      <td>0</td>\n      <td>0</td>\n      <td>0.0</td>\n      <td>0</td>\n      <td>0</td>\n      <td>0</td>\n      <td>NaN</td>\n      <td>NaN</td>\n      <td>NaN</td>\n      <td>NaN</td>\n      <td>NaN</td>\n      <td>NaN</td>\n      <td>NaN</td>\n      <td>67.0</td>\n      <td>NaN</td>\n      <td>NaN</td>\n      <td>3</td>\n      <td>3</td>\n      <td>0.0</td>\n      <td>NaN</td>\n      <td>NaN</td>\n      <td>3.0</td>\n      <td>3.0</td>\n      <td>0</td>\n      <td>0</td>\n      <td>NaN</td>\n      <td>NaN</td>\n      <td>NaN</td>\n      <td>0.0</td>\n      <td>0.0</td>\n      <td>0.0</td>\n      <td>0.001506</td>\n      <td>0.179749</td>\n      <td>0.006639</td>\n      <td>0.281138</td>\n      <td>0.213700</td>\n      <td>0.003592</td>\n      <td>0.313676</td>\n      <td>0.0</td>\n      <td>0.0</td>\n      <td>0.323526</td>\n      <td>2.014474</td>\n      <td>2.014474</td>\n      <td>-2.014474</td>\n      <td>0.00000</td>\n      <td>0.00000</td>\n      <td>0.000000</td>\n      <td>0.000000</td>\n      <td>NaN</td>\n      <td>NaN</td>\n      <td>0.000000</td>\n      <td>0.000000</td>\n      <td>0.000000</td>\n      <td>0.000000</td>\n      <td>0.000000</td>\n      <td>0.000000</td>\n      <td>0.000000</td>\n      <td>0.000000</td>\n      <td>0.000000</td>\n      <td>0.000000</td>\n      <td>NaN</td>\n      <td>NaN</td>\n      <td>NaN</td>\n      <td>NaN</td>\n      <td>NaN</td>\n      <td>NaN</td>\n      <td>NaN</td>\n      <td>0.000000</td>\n      <td>0.000000</td>\n      <td>0.000000</td>\n      <td>0.000000</td>\n      <td>NaN</td>\n      <td>NaN</td>\n      <td>0.000000</td>\n      <td>0.000000</td>\n      <td>0.000000</td>\n      <td>0.000000</td>\n      <td>0.000000</td>\n      <td>0.000000</td>\n      <td>0.000000</td>\n      <td>0.000000</td>\n      <td>0.000000</td>\n      <td>0.000000</td>\n      <td>0.0</td>\n      <td>0.0</td>\n      <td>0.0</td>\n      <td>0.0</td>\n      <td>0.0</td>\n      <td>0.0</td>\n      <td>0.0</td>\n      <td>0.0</td>\n      <td>0.0</td>\n      <td>0.0</td>\n      <td>0.0</td>\n      <td>0.0</td>\n      <td>0.0</td>\n      <td>0.0</td>\n      <td>0.0</td>\n      <td>0.0</td>\n      <td>0.0</td>\n      <td>0.0</td>\n      <td>0.0</td>\n      <td>0.0</td>\n      <td>0.0</td>\n      <td>0.0</td>\n      <td>0.0</td>\n      <td>1.0</td>\n      <td>0.0</td>\n      <td>0.0</td>\n      <td>0.0</td>\n      <td>0.0</td>\n      <td>0.0</td>\n      <td>0.0</td>\n      <td>0.0</td>\n      <td>0.0</td>\n      <td>0.0</td>\n      <td>0.0</td>\n      <td>0.0</td>\n      <td>0.0</td>\n      <td>0.0</td>\n      <td>0.0</td>\n      <td>0.0</td>\n      <td>0.0</td>\n      <td>0.0</td>\n      <td>1.0</td>\n      <td>0.0</td>\n      <td>0.0</td>\n      <td>0.0</td>\n      <td>0.0</td>\n      <td>0.0</td>\n      <td>0.0</td>\n      <td>0.0</td>\n      <td>0.0</td>\n      <td>NaN</td>\n      <td>NaN</td>\n      <td>NaN</td>\n      <td>NaN</td>\n      <td>NaN</td>\n      <td>NaN</td>\n      <td>NaN</td>\n      <td>NaN</td>\n      <td>NaN</td>\n      <td>NaN</td>\n      <td>NaN</td>\n      <td>NaN</td>\n      <td>NaN</td>\n      <td>NaN</td>\n      <td>NaN</td>\n      <td>NaN</td>\n      <td>NaN</td>\n      <td>NaN</td>\n      <td>S.Logan</td>\n      <td>00-0026491</td>\n      <td>NaN</td>\n      <td>NaN</td>\n      <td>NaN</td>\n      <td>NaN</td>\n      <td>R.Bironas</td>\n      <td>00-0020962</td>\n      <td>NaN</td>\n      <td>NaN</td>\n      <td>NaN</td>\n      <td>NaN</td>\n      <td>NaN</td>\n      <td>NaN</td>\n      <td>NaN</td>\n      <td>NaN</td>\n      <td>NaN</td>\n      <td>NaN</td>\n      <td>NaN</td>\n      <td>NaN</td>\n      <td>NaN</td>\n      <td>NaN</td>\n      <td>NaN</td>\n      <td>NaN</td>\n      <td>NaN</td>\n      <td>NaN</td>\n      <td>TEN</td>\n      <td>NaN</td>\n      <td>00-0025406</td>\n      <td>NaN</td>\n      <td>M.Griffin</td>\n      <td>NaN</td>\n      <td>NaN</td>\n      <td>NaN</td>\n      <td>NaN</td>\n      <td>NaN</td>\n      <td>NaN</td>\n      <td>NaN</td>\n      <td>NaN</td>\n      <td>NaN</td>\n      <td>NaN</td>\n      <td>NaN</td>\n      <td>NaN</td>\n      <td>NaN</td>\n      <td>NaN</td>\n      <td>NaN</td>\n      <td>NaN</td>\n      <td>NaN</td>\n      <td>NaN</td>\n      <td>NaN</td>\n      <td>NaN</td>\n      <td>NaN</td>\n      <td>NaN</td>\n      <td>NaN</td>\n      <td>NaN</td>\n      <td>NaN</td>\n      <td>NaN</td>\n      <td>NaN</td>\n      <td>NaN</td>\n      <td>PIT</td>\n      <td>39.0</td>\n      <td>NaN</td>\n      <td>NaN</td>\n      <td>NaN</td>\n      <td>NaN</td>\n      <td>0</td>\n      <td>NaN</td>\n      <td>NaN</td>\n      <td>0.0</td>\n      <td>0.0</td>\n      <td>0.0</td>\n      <td>0.0</td>\n    </tr>\n    <tr>\n      <th>1</th>\n      <td>68</td>\n      <td>2009091000</td>\n      <td>PIT</td>\n      <td>TEN</td>\n      <td>PIT</td>\n      <td>home</td>\n      <td>TEN</td>\n      <td>PIT</td>\n      <td>58.0</td>\n      <td>2009-09-10</td>\n      <td>893.0</td>\n      <td>1793.0</td>\n      <td>3593.0</td>\n      <td>Half1</td>\n      <td>0</td>\n      <td>1</td>\n      <td>0</td>\n      <td>1</td>\n      <td>1.0</td>\n      <td>0.0</td>\n      <td>14:53</td>\n      <td>PIT 42</td>\n      <td>10</td>\n      <td>5</td>\n      <td>(14:53) B.Roethlisberger pass short left to H....</td>\n      <td>pass</td>\n      <td>5.0</td>\n      <td>0</td>\n      <td>0</td>\n      <td>1.0</td>\n      <td>0</td>\n      <td>0</td>\n      <td>0</td>\n      <td>short</td>\n      <td>left</td>\n      <td>-3.0</td>\n      <td>8.0</td>\n      <td>NaN</td>\n      <td>NaN</td>\n      <td>NaN</td>\n      <td>NaN</td>\n      <td>NaN</td>\n      <td>NaN</td>\n      <td>3</td>\n      <td>3</td>\n      <td>0.0</td>\n      <td>NaN</td>\n      <td>NaN</td>\n      <td>3.0</td>\n      <td>3.0</td>\n      <td>0</td>\n      <td>0</td>\n      <td>0.0</td>\n      <td>0.0</td>\n      <td>0.0</td>\n      <td>0.0</td>\n      <td>0.0</td>\n      <td>0.0</td>\n      <td>0.000969</td>\n      <td>0.108505</td>\n      <td>0.001061</td>\n      <td>0.169117</td>\n      <td>0.293700</td>\n      <td>0.003638</td>\n      <td>0.423011</td>\n      <td>0.0</td>\n      <td>0.0</td>\n      <td>2.338000</td>\n      <td>0.077907</td>\n      <td>2.092381</td>\n      <td>-2.092381</td>\n      <td>0.00000</td>\n      <td>0.00000</td>\n      <td>0.077907</td>\n      <td>-0.077907</td>\n      <td>-0.938735</td>\n      <td>1.016643</td>\n      <td>-0.938735</td>\n      <td>1.016643</td>\n      <td>-0.938735</td>\n      <td>0.938735</td>\n      <td>1.016643</td>\n      <td>-1.016643</td>\n      <td>-0.938735</td>\n      <td>0.938735</td>\n      <td>1.016643</td>\n      <td>-1.016643</td>\n      <td>0.546433</td>\n      <td>0.453567</td>\n      <td>0.546433</td>\n      <td>0.453567</td>\n      <td>0.004655</td>\n      <td>0.551088</td>\n      <td>0.448912</td>\n      <td>0.000000</td>\n      <td>0.000000</td>\n      <td>0.004655</td>\n      <td>-0.004655</td>\n      <td>-0.028383</td>\n      <td>0.033038</td>\n      <td>-0.028383</td>\n      <td>0.033038</td>\n      <td>-0.028383</td>\n      <td>0.028383</td>\n      <td>0.033038</td>\n      <td>-0.033038</td>\n      <td>-0.028383</td>\n      <td>0.028383</td>\n      <td>0.033038</td>\n      <td>-0.033038</td>\n      <td>0.0</td>\n      <td>0.0</td>\n      <td>0.0</td>\n      <td>0.0</td>\n      <td>0.0</td>\n      <td>0.0</td>\n      <td>0.0</td>\n      <td>0.0</td>\n      <td>0.0</td>\n      <td>0.0</td>\n      <td>0.0</td>\n      <td>0.0</td>\n      <td>0.0</td>\n      <td>0.0</td>\n      <td>0.0</td>\n      <td>0.0</td>\n      <td>0.0</td>\n      <td>0.0</td>\n      <td>0.0</td>\n      <td>0.0</td>\n      <td>0.0</td>\n      <td>0.0</td>\n      <td>0.0</td>\n      <td>1.0</td>\n      <td>0.0</td>\n      <td>0.0</td>\n      <td>0.0</td>\n      <td>0.0</td>\n      <td>0.0</td>\n      <td>0.0</td>\n      <td>0.0</td>\n      <td>0.0</td>\n      <td>1.0</td>\n      <td>0.0</td>\n      <td>0.0</td>\n      <td>0.0</td>\n      <td>0.0</td>\n      <td>0.0</td>\n      <td>0.0</td>\n      <td>0.0</td>\n      <td>0.0</td>\n      <td>0.0</td>\n      <td>0.0</td>\n      <td>0.0</td>\n      <td>1.0</td>\n      <td>0.0</td>\n      <td>0.0</td>\n      <td>0.0</td>\n      <td>0.0</td>\n      <td>0.0</td>\n      <td>00-0022924</td>\n      <td>B.Roethlisberger</td>\n      <td>00-0017162</td>\n      <td>H.Ward</td>\n      <td>NaN</td>\n      <td>NaN</td>\n      <td>NaN</td>\n      <td>NaN</td>\n      <td>NaN</td>\n      <td>NaN</td>\n      <td>NaN</td>\n      <td>NaN</td>\n      <td>NaN</td>\n      <td>NaN</td>\n      <td>NaN</td>\n      <td>NaN</td>\n      <td>NaN</td>\n      <td>NaN</td>\n      <td>NaN</td>\n      <td>NaN</td>\n      <td>NaN</td>\n      <td>NaN</td>\n      <td>NaN</td>\n      <td>NaN</td>\n      <td>NaN</td>\n      <td>NaN</td>\n      <td>NaN</td>\n      <td>NaN</td>\n      <td>NaN</td>\n      <td>NaN</td>\n      <td>NaN</td>\n      <td>NaN</td>\n      <td>NaN</td>\n      <td>NaN</td>\n      <td>NaN</td>\n      <td>NaN</td>\n      <td>NaN</td>\n      <td>NaN</td>\n      <td>NaN</td>\n      <td>NaN</td>\n      <td>NaN</td>\n      <td>NaN</td>\n      <td>NaN</td>\n      <td>NaN</td>\n      <td>TEN</td>\n      <td>NaN</td>\n      <td>00-0021219</td>\n      <td>NaN</td>\n      <td>C.Hope</td>\n      <td>NaN</td>\n      <td>NaN</td>\n      <td>NaN</td>\n      <td>NaN</td>\n      <td>NaN</td>\n      <td>NaN</td>\n      <td>NaN</td>\n      <td>NaN</td>\n      <td>NaN</td>\n      <td>NaN</td>\n      <td>NaN</td>\n      <td>NaN</td>\n      <td>NaN</td>\n      <td>NaN</td>\n      <td>NaN</td>\n      <td>NaN</td>\n      <td>NaN</td>\n      <td>NaN</td>\n      <td>NaN</td>\n      <td>NaN</td>\n      <td>NaN</td>\n      <td>NaN</td>\n      <td>NaN</td>\n      <td>NaN</td>\n      <td>NaN</td>\n      <td>NaN</td>\n      <td>NaN</td>\n      <td>NaN</td>\n      <td>NaN</td>\n      <td>0.0</td>\n      <td>NaN</td>\n      <td>NaN</td>\n      <td>NaN</td>\n      <td>NaN</td>\n      <td>0</td>\n      <td>NaN</td>\n      <td>NaN</td>\n      <td>0.0</td>\n      <td>0.0</td>\n      <td>0.0</td>\n      <td>0.0</td>\n    </tr>\n    <tr>\n      <th>2</th>\n      <td>92</td>\n      <td>2009091000</td>\n      <td>PIT</td>\n      <td>TEN</td>\n      <td>PIT</td>\n      <td>home</td>\n      <td>TEN</td>\n      <td>PIT</td>\n      <td>53.0</td>\n      <td>2009-09-10</td>\n      <td>856.0</td>\n      <td>1756.0</td>\n      <td>3556.0</td>\n      <td>Half1</td>\n      <td>0</td>\n      <td>1</td>\n      <td>0</td>\n      <td>1</td>\n      <td>2.0</td>\n      <td>0.0</td>\n      <td>14:16</td>\n      <td>PIT 47</td>\n      <td>5</td>\n      <td>2</td>\n      <td>(14:16) W.Parker right end to PIT 44 for -3 ya...</td>\n      <td>run</td>\n      <td>-3.0</td>\n      <td>0</td>\n      <td>0</td>\n      <td>0.0</td>\n      <td>0</td>\n      <td>0</td>\n      <td>0</td>\n      <td>NaN</td>\n      <td>NaN</td>\n      <td>NaN</td>\n      <td>NaN</td>\n      <td>right</td>\n      <td>end</td>\n      <td>NaN</td>\n      <td>NaN</td>\n      <td>NaN</td>\n      <td>NaN</td>\n      <td>3</td>\n      <td>3</td>\n      <td>0.0</td>\n      <td>NaN</td>\n      <td>NaN</td>\n      <td>3.0</td>\n      <td>3.0</td>\n      <td>0</td>\n      <td>0</td>\n      <td>0.0</td>\n      <td>0.0</td>\n      <td>0.0</td>\n      <td>0.0</td>\n      <td>0.0</td>\n      <td>0.0</td>\n      <td>0.001057</td>\n      <td>0.105106</td>\n      <td>0.000981</td>\n      <td>0.162747</td>\n      <td>0.304805</td>\n      <td>0.003826</td>\n      <td>0.421478</td>\n      <td>0.0</td>\n      <td>0.0</td>\n      <td>2.415907</td>\n      <td>-1.402760</td>\n      <td>0.689621</td>\n      <td>-0.689621</td>\n      <td>-1.40276</td>\n      <td>1.40276</td>\n      <td>0.077907</td>\n      <td>-0.077907</td>\n      <td>NaN</td>\n      <td>NaN</td>\n      <td>0.000000</td>\n      <td>0.000000</td>\n      <td>-0.938735</td>\n      <td>0.938735</td>\n      <td>1.016643</td>\n      <td>-1.016643</td>\n      <td>-0.938735</td>\n      <td>0.938735</td>\n      <td>1.016643</td>\n      <td>-1.016643</td>\n      <td>0.551088</td>\n      <td>0.448912</td>\n      <td>0.551088</td>\n      <td>0.448912</td>\n      <td>-0.040295</td>\n      <td>0.510793</td>\n      <td>0.489207</td>\n      <td>-0.040295</td>\n      <td>0.040295</td>\n      <td>0.004655</td>\n      <td>-0.004655</td>\n      <td>NaN</td>\n      <td>NaN</td>\n      <td>0.000000</td>\n      <td>0.000000</td>\n      <td>-0.028383</td>\n      <td>0.028383</td>\n      <td>0.033038</td>\n      <td>-0.033038</td>\n      <td>-0.028383</td>\n      <td>0.028383</td>\n      <td>0.033038</td>\n      <td>-0.033038</td>\n      <td>0.0</td>\n      <td>0.0</td>\n      <td>0.0</td>\n      <td>0.0</td>\n      <td>0.0</td>\n      <td>0.0</td>\n      <td>0.0</td>\n      <td>0.0</td>\n      <td>0.0</td>\n      <td>0.0</td>\n      <td>0.0</td>\n      <td>0.0</td>\n      <td>0.0</td>\n      <td>0.0</td>\n      <td>0.0</td>\n      <td>0.0</td>\n      <td>0.0</td>\n      <td>0.0</td>\n      <td>0.0</td>\n      <td>0.0</td>\n      <td>0.0</td>\n      <td>0.0</td>\n      <td>0.0</td>\n      <td>1.0</td>\n      <td>0.0</td>\n      <td>0.0</td>\n      <td>1.0</td>\n      <td>0.0</td>\n      <td>0.0</td>\n      <td>0.0</td>\n      <td>0.0</td>\n      <td>1.0</td>\n      <td>0.0</td>\n      <td>0.0</td>\n      <td>0.0</td>\n      <td>0.0</td>\n      <td>0.0</td>\n      <td>0.0</td>\n      <td>0.0</td>\n      <td>0.0</td>\n      <td>0.0</td>\n      <td>0.0</td>\n      <td>0.0</td>\n      <td>0.0</td>\n      <td>0.0</td>\n      <td>0.0</td>\n      <td>0.0</td>\n      <td>0.0</td>\n      <td>0.0</td>\n      <td>0.0</td>\n      <td>NaN</td>\n      <td>NaN</td>\n      <td>NaN</td>\n      <td>NaN</td>\n      <td>00-0022250</td>\n      <td>W.Parker</td>\n      <td>NaN</td>\n      <td>NaN</td>\n      <td>NaN</td>\n      <td>NaN</td>\n      <td>NaN</td>\n      <td>NaN</td>\n      <td>NaN</td>\n      <td>NaN</td>\n      <td>NaN</td>\n      <td>NaN</td>\n      <td>NaN</td>\n      <td>NaN</td>\n      <td>NaN</td>\n      <td>NaN</td>\n      <td>NaN</td>\n      <td>NaN</td>\n      <td>NaN</td>\n      <td>NaN</td>\n      <td>NaN</td>\n      <td>NaN</td>\n      <td>NaN</td>\n      <td>NaN</td>\n      <td>NaN</td>\n      <td>NaN</td>\n      <td>00-0024331</td>\n      <td>S.Tulloch</td>\n      <td>NaN</td>\n      <td>NaN</td>\n      <td>NaN</td>\n      <td>NaN</td>\n      <td>NaN</td>\n      <td>NaN</td>\n      <td>NaN</td>\n      <td>NaN</td>\n      <td>NaN</td>\n      <td>NaN</td>\n      <td>NaN</td>\n      <td>NaN</td>\n      <td>TEN</td>\n      <td>NaN</td>\n      <td>00-0024331</td>\n      <td>NaN</td>\n      <td>S.Tulloch</td>\n      <td>NaN</td>\n      <td>NaN</td>\n      <td>NaN</td>\n      <td>NaN</td>\n      <td>NaN</td>\n      <td>NaN</td>\n      <td>NaN</td>\n      <td>NaN</td>\n      <td>NaN</td>\n      <td>NaN</td>\n      <td>NaN</td>\n      <td>NaN</td>\n      <td>NaN</td>\n      <td>NaN</td>\n      <td>NaN</td>\n      <td>NaN</td>\n      <td>NaN</td>\n      <td>NaN</td>\n      <td>NaN</td>\n      <td>NaN</td>\n      <td>NaN</td>\n      <td>NaN</td>\n      <td>NaN</td>\n      <td>NaN</td>\n      <td>NaN</td>\n      <td>NaN</td>\n      <td>NaN</td>\n      <td>NaN</td>\n      <td>NaN</td>\n      <td>0.0</td>\n      <td>NaN</td>\n      <td>NaN</td>\n      <td>NaN</td>\n      <td>NaN</td>\n      <td>0</td>\n      <td>NaN</td>\n      <td>NaN</td>\n      <td>0.0</td>\n      <td>0.0</td>\n      <td>0.0</td>\n      <td>0.0</td>\n    </tr>\n  </tbody>\n</table>\n</div>"
     },
     "metadata": {},
     "execution_count": 21
    }
   ],
   "source": [
    "pd.set_option('display.max_columns', 250)\n",
    "df.head(3)"
   ]
  },
  {
   "cell_type": "code",
   "execution_count": 22,
   "metadata": {},
   "outputs": [],
   "source": [
    "# as discussed, nulls should be replaced carefully, and only if it makes sense.\n",
    "# In this dataset in particular, there are plenty of nulls, and for most cases it's probably better to work with leaner dfs. \n",
    "# See cmd 7, msno.matrix(df5) \n",
    "\n",
    "## Some data that should probably be discarded :\n",
    "# 1. Rows with majority of nulls (e.g row 449370), unless the use case requieres the cols that are actually filled (E.g play_id, game_id, home_team, yardline_100)\n",
    "# 2. A large portion of cols that contain a high number of nulls (all those towards the right side of the graph)\n",
    "\n",
    "\n",
    "# Final comments:\n",
    "# This dataset seems to include data from different entities, thus introducing lot of redundancy (which is good for fast analytical queries, \n",
    "# but mixes too many different things in one table). \n",
    "# For example, this table could be broken down in, say, three tables; PLAYERS, PLAYS, GAMES. \n",
    "# where the respective primary keys are player_id, play_id and game_id\n",
    "\n",
    "\n",
    "# This would help keeping things more organised and lower redundancy on data, but joining them back to build the fact table can be slow. "
   ]
  }
 ],
 "metadata": {
  "kernelspec": {
   "display_name": "Python 3",
   "language": "python",
   "name": "python3"
  },
  "language_info": {
   "codemirror_mode": {
    "name": "ipython",
    "version": 3
   },
   "file_extension": ".py",
   "mimetype": "text/x-python",
   "name": "python",
   "nbconvert_exporter": "python",
   "pygments_lexer": "ipython3",
   "version": "3.8.5-final"
  }
 },
 "nbformat": 4,
 "nbformat_minor": 4
}