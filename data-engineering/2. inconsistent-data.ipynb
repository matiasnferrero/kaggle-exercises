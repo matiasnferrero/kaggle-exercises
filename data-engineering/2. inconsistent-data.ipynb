{
 "cells": [
  {
   "cell_type": "markdown",
   "metadata": {
    "_cell_guid": "5cd5061f-ae30-4837-a53b-690ffd5c5830",
    "_uuid": "9d82bf13584b8e682962fbb96131f2447d741679"
   },
   "source": [
    "## Preamble\n",
    "_______"
   ]
  },
  {
   "cell_type": "code",
   "execution_count": 4,
   "metadata": {},
   "outputs": [
    {
     "name": "stdout",
     "output_type": "stream",
     "text": [
      "Defaulting to user installation because normal site-packages is not writeable\n",
      "Requirement already satisfied: chardet==4.0.0 in /home/matias/.local/lib/python3.8/site-packages (from -r ../requirements.txt (line 1)) (4.0.0)\n",
      "Requirement already satisfied: cycler==0.10.0 in /home/matias/.local/lib/python3.8/site-packages (from -r ../requirements.txt (line 2)) (0.10.0)\n",
      "Requirement already satisfied: freeze==3.0 in /home/matias/.local/lib/python3.8/site-packages (from -r ../requirements.txt (line 3)) (3.0)\n",
      "Requirement already satisfied: fuzzywuzzy==0.18.0 in /home/matias/.local/lib/python3.8/site-packages (from -r ../requirements.txt (line 4)) (0.18.0)\n",
      "Requirement already satisfied: install==1.3.4 in /home/matias/.local/lib/python3.8/site-packages (from -r ../requirements.txt (line 5)) (1.3.4)\n",
      "Requirement already satisfied: joblib==1.0.0 in /home/matias/.local/lib/python3.8/site-packages (from -r ../requirements.txt (line 6)) (1.0.0)\n",
      "Requirement already satisfied: kiwisolver==1.3.1 in /home/matias/.local/lib/python3.8/site-packages (from -r ../requirements.txt (line 7)) (1.3.1)\n",
      "Requirement already satisfied: matplotlib==3.3.4 in /home/matias/.local/lib/python3.8/site-packages (from -r ../requirements.txt (line 8)) (3.3.4)\n",
      "Requirement already satisfied: mlxtend==0.18.0 in /home/matias/.local/lib/python3.8/site-packages (from -r ../requirements.txt (line 9)) (0.18.0)\n",
      "Requirement already satisfied: numpy==1.20.0 in /home/matias/.local/lib/python3.8/site-packages (from -r ../requirements.txt (line 10)) (1.20.0)\n",
      "Requirement already satisfied: pandas==1.2.1 in /home/matias/.local/lib/python3.8/site-packages (from -r ../requirements.txt (line 11)) (1.2.1)\n",
      "Requirement already satisfied: patsy==0.5.1 in /home/matias/.local/lib/python3.8/site-packages (from -r ../requirements.txt (line 12)) (0.5.1)\n",
      "Requirement already satisfied: Pillow==8.1.0 in /home/matias/.local/lib/python3.8/site-packages (from -r ../requirements.txt (line 13)) (8.1.0)\n",
      "Requirement already satisfied: pyparsing==2.4.7 in /home/matias/.local/lib/python3.8/site-packages (from -r ../requirements.txt (line 14)) (2.4.7)\n",
      "Requirement already satisfied: python-dateutil==2.8.1 in /home/matias/.local/lib/python3.8/site-packages (from -r ../requirements.txt (line 15)) (2.8.1)\n",
      "Requirement already satisfied: pytz==2021.1 in /home/matias/.local/lib/python3.8/site-packages (from -r ../requirements.txt (line 16)) (2021.1)\n",
      "Requirement already satisfied: scikit-learn==0.24.1 in /home/matias/.local/lib/python3.8/site-packages (from -r ../requirements.txt (line 17)) (0.24.1)\n",
      "Requirement already satisfied: scipy==1.6.0 in /home/matias/.local/lib/python3.8/site-packages (from -r ../requirements.txt (line 18)) (1.6.0)\n",
      "Requirement already satisfied: seaborn==0.11.1 in /home/matias/.local/lib/python3.8/site-packages (from -r ../requirements.txt (line 19)) (0.11.1)\n",
      "Requirement already satisfied: six==1.15.0 in /home/matias/.local/lib/python3.8/site-packages (from -r ../requirements.txt (line 20)) (1.15.0)\n",
      "Requirement already satisfied: statsmodels==0.12.2 in /home/matias/.local/lib/python3.8/site-packages (from -r ../requirements.txt (line 21)) (0.12.2)\n",
      "Requirement already satisfied: threadpoolctl==2.1.0 in /home/matias/.local/lib/python3.8/site-packages (from -r ../requirements.txt (line 22)) (2.1.0)\n",
      "Requirement already satisfied: setuptools in /usr/lib/python3/dist-packages (from mlxtend==0.18.0->-r ../requirements.txt (line 9)) (45.2.0)\n"
     ]
    }
   ],
   "source": [
    "!pip install -r ../requirements.txt "
   ]
  },
  {
   "cell_type": "code",
   "execution_count": 5,
   "metadata": {
    "_cell_guid": "135a7804-b5f5-40aa-8657-4a15774e3666",
    "_uuid": "835cbe0834b935fb0fd40c75b9c39454836f4d5f"
   },
   "outputs": [],
   "source": [
    "import pandas as pd\n",
    "import numpy as np\n",
    "import re\n",
    "\n",
    "\n",
    "from fuzzywuzzy import fuzz\n",
    "from fuzzywuzzy import process\n",
    "\n",
    "# This is just to make the presentation cleaner, but warnings need to be analyzed and fixed.\n",
    "# But I dint have time for it. \n",
    "import warnings\n",
    "warnings.filterwarnings('ignore')\n",
    "\n",
    "import chardet\n",
    "\n",
    "np.random.seed(0)\n",
    "\n",
    "%run functions.ipynb"
   ]
  },
  {
   "cell_type": "markdown",
   "metadata": {},
   "source": [
    "## Data\n",
    "________\n",
    "\n",
    "\n",
    "**TODO**\n",
    "\n",
    "* Download dataset from [here](https://www.kaggle.com/zusmani/pakistansuicideattacks/download).\n",
    "* Identify the encoding of the data in `filename`\n",
    "* Read the csv into `suicide_attacks` variable using the correct encoding (the `chardet` module might come handy)."
   ]
  },
  {
   "cell_type": "code",
   "execution_count": 6,
   "metadata": {},
   "outputs": [
    {
     "data": {
      "text/plain": [
       "'Windows-1252'"
      ]
     },
     "execution_count": 6,
     "metadata": {},
     "output_type": "execute_result"
    }
   ],
   "source": [
    "BASE_PATH = '/home/matias/data/PakistanSuicideAttacks/'\n",
    "\n",
    "list_suffix = [\n",
    "                                      'PakistanSuicideAttacks Ver 6 (10-October-2017).csv',\n",
    "                                      'PakistanSuicideAttacks Ver 11 (30-November-2017).csv'\n",
    "                                      ] \n",
    "    \n",
    "filename = f'{BASE_PATH}/{list_suffix[0]}'\n",
    "encoding = get_most_likely_encoding(filename)\n",
    "encoding"
   ]
  },
  {
   "cell_type": "code",
   "execution_count": 7,
   "metadata": {},
   "outputs": [
    {
     "name": "stdout",
     "output_type": "stream",
     "text": [
      "Reading: PakistanSuicideAttacks Ver 6 (10-October-2017).csv\n",
      "shape: (492, 26)\n",
      "columns: ['S#', 'Date', 'Islamic Date', 'Blast Day Type', 'Holiday Type', 'Time', 'City', 'Latitude', 'Longitude', 'Province', 'Location', 'Location Category', 'Location Sensitivity', 'Open/Closed Space', 'Influencing Event/Event', 'Target Type', 'Targeted Sect if any', 'Killed Min', 'Killed Max', 'Injured Min', 'Injured Max', 'No. of Suicide Blasts', 'Explosive Weight (max)', 'Hospital Names', 'Temperature(C)', 'Temperature(F)']\n",
      "pc_number_of_null_values: 0.174406\n",
      "\n",
      "Reading: PakistanSuicideAttacks Ver 11 (30-November-2017).csv\n",
      "shape: (496, 26)\n",
      "columns: ['S#', 'Date', 'Islamic Date', 'Blast Day Type', 'Holiday Type', 'Time', 'City', 'Latitude', 'Longitude', 'Province', 'Location', 'Location Category', 'Location Sensitivity', 'Open/Closed Space', 'Influencing Event/Event', 'Target Type', 'Targeted Sect if any', 'Killed Min', 'Killed Max', 'Injured Min', 'Injured Max', 'No. of Suicide Blasts', 'Explosive Weight (max)', 'Hospital Names', 'Temperature(C)', 'Temperature(F)']\n",
      "pc_number_of_null_values: 0.173310\n",
      "\n"
     ]
    }
   ],
   "source": [
    "suicide_attacks = build_df_from_appending_csv_files(\n",
    "                        list_suffix = list_suffix,\n",
    "                        BASE_PATH = BASE_PATH,\n",
    "                        encoding = encoding,\n",
    "                        clean_headers = False\n",
    "                        ) "
   ]
  },
  {
   "cell_type": "markdown",
   "metadata": {
    "_cell_guid": "83630dd4-6775-4ba5-a290-077c6f503f64",
    "_uuid": "a3f42cea88795426f036e35d30d5c079f3c6152c"
   },
   "source": [
    "## Preliminary text pre-processing\n",
    "___\n",
    "\n",
    "**TODO**\n",
    "\n",
    "* Clean the `City` column for inconsisntecies\n",
    "* Normalize the `City` column for upper or lowercase, spaces, etc."
   ]
  },
  {
   "cell_type": "code",
   "execution_count": 8,
   "metadata": {
    "_cell_guid": "b3d4b17e-77c4-46d8-9681-a94801969b49",
    "_uuid": "4bced8b6f6a985ded2c991f46ed0145ac1d8b722"
   },
   "outputs": [
    {
     "name": "stdout",
     "output_type": "stream",
     "text": [
      "['ATTOCK' 'Attock ' 'Bajaur Agency' 'Bannu' 'Bhakkar ' 'Buner' 'Chakwal '\n",
      " 'Chaman' 'Charsadda' 'Charsadda ' 'D. I Khan' 'D.G Khan' 'D.G Khan '\n",
      " 'D.I Khan' 'D.I Khan ' 'Dara Adam Khel' 'Dara Adam khel' 'Fateh Jang'\n",
      " 'Ghallanai, Mohmand Agency ' 'Gujrat' 'Hangu' 'Haripur' 'Hayatabad'\n",
      " 'Islamabad' 'Islamabad ' 'Jacobabad' 'KURRAM AGENCY' 'Karachi' 'Karachi '\n",
      " 'Karak' 'Khanewal' 'Khuzdar' 'Khyber Agency' 'Khyber Agency ' 'Kohat'\n",
      " 'Kohat ' 'Kuram Agency ' 'Lahore' 'Lahore ' 'Lakki Marwat' 'Lakki marwat'\n",
      " 'Lasbela' 'Lower Dir' 'MULTAN' 'Malakand ' 'Mansehra' 'Mardan'\n",
      " 'Mohmand Agency' 'Mohmand Agency ' 'Mohmand agency'\n",
      " 'Mosal Kor, Mohmand Agency' 'Multan' 'Muzaffarabad' 'North Waziristan'\n",
      " 'North waziristan' 'Nowshehra' 'Orakzai Agency' 'Peshawar' 'Peshawar '\n",
      " 'Pishin' 'Poonch' 'Quetta' 'Quetta ' 'Rawalpindi' 'Sargodha'\n",
      " 'Sehwan town' 'Shabqadar-Charsadda' 'Shangla ' 'Shikarpur' 'Sialkot'\n",
      " 'South Waziristan' 'South waziristan' 'Sudhanoti' 'Sukkur' 'Swabi '\n",
      " 'Swat' 'Swat ' 'Taftan' 'Tangi, Charsadda District' 'Tank' 'Tank '\n",
      " 'Taunsa' 'Tirah Valley' 'Totalai' 'Upper Dir' 'Wagah' 'Zhob' 'bannu'\n",
      " 'karachi' 'karachi ' 'lakki marwat' 'peshawar' 'swat']\n"
     ]
    }
   ],
   "source": [
    "get_all_the_unique_values_in_the_city_column_sort_and_print(suicide_attacks)"
   ]
  },
  {
   "cell_type": "code",
   "execution_count": 9,
   "metadata": {},
   "outputs": [
    {
     "name": "stdout",
     "output_type": "stream",
     "text": [
      "Casted to lowercase ✓\n",
      "Stripped left and right whitespaces ✓\n",
      "Stripped whitespaces after dots ✓\n",
      "Cells with two entries were splitted, and second entry placed into a new column: second_City. ✓\n"
     ]
    }
   ],
   "source": [
    "# Normalize columns does things like these:\n",
    "# 'ATTOCK', 'Attock ' ---> 'attock'\n",
    "# 'D. I Khan', 'D.I Khan ' ---> 'd.i khan' \n",
    "\n",
    "suicide_attacks = normalize_column(suicide_attacks, 'City')"
   ]
  },
  {
   "cell_type": "markdown",
   "metadata": {
    "_cell_guid": "a612e0fa-1361-4e8e-a6aa-5008b631d076",
    "_uuid": "3639865348f499faa25b75a46438807ed70d4173"
   },
   "source": [
    "## Matching of inconsistent data entries\n",
    "___\n",
    "\n",
    "**TODO** \n",
    "\n",
    "* Verify there are no more inconsistencies in the `City` column.\n",
    "* Feel free to use the [`fuzzywuzzy`](https://github.com/seatgeek/fuzzywuzzy) package to match an remove possible issues.\n",
    "\n",
    "> **Fuzzy matching:** The process of automatically finding text strings that are very similar to the target string. In general, a string is considered \"closer\" to another one the fewer characters you'd need to change if you were transforming one string into another. So \"apple\" and \"snapple\" are two changes away from each other (add \"s\" and \"n\") while \"in\" and \"on\" and one change away (rplace \"i\" with \"o\"). You won't always be able to rely on fuzzy matching 100%, but it will usually end up saving you at least a little time."
   ]
  },
  {
   "cell_type": "code",
   "execution_count": 10,
   "metadata": {},
   "outputs": [
    {
     "name": "stdout",
     "output_type": "stream",
     "text": [
      "['attock' 'bajaur agency' 'bannu' 'bhakkar' 'buner' 'chakwal' 'chaman'\n",
      " 'charsadda' 'd.g khan' 'd.i khan' 'dara adam khel' 'fateh jang'\n",
      " 'ghallanai' 'gujrat' 'hangu' 'haripur' 'hayatabad' 'islamabad'\n",
      " 'jacobabad' 'karachi' 'karak' 'khanewal' 'khuzdar' 'khyber agency'\n",
      " 'kohat' 'kuram agency' 'kurram agency' 'lahore' 'lakki marwat' 'lasbela'\n",
      " 'lower dir' 'malakand' 'mansehra' 'mardan' 'mohmand agency' 'mosal kor'\n",
      " 'multan' 'muzaffarabad' 'north waziristan' 'nowshehra' 'orakzai agency'\n",
      " 'peshawar' 'pishin' 'poonch' 'quetta' 'rawalpindi' 'sargodha'\n",
      " 'sehwan town' 'shabqadar-charsadda' 'shangla' 'shikarpur' 'sialkot'\n",
      " 'south waziristan' 'sudhanoti' 'sukkur' 'swabi' 'swat' 'taftan' 'tangi'\n",
      " 'tank' 'taunsa' 'tirah valley' 'totalai' 'upper dir' 'wagah' 'zhob']\n"
     ]
    }
   ],
   "source": [
    "# I didnt have time to explore the fuzzywuzzy, but will definetely have a look at it! \n",
    "# Otherwise, we can visually check that the inconsistencies are gone. \n",
    "get_all_the_unique_values_in_the_city_column_sort_and_print(suicide_attacks)"
   ]
  }
 ],
 "metadata": {
  "kernelspec": {
   "display_name": "Python 3",
   "language": "python",
   "name": "python3"
  },
  "language_info": {
   "codemirror_mode": {
    "name": "ipython",
    "version": 3
   },
   "file_extension": ".py",
   "mimetype": "text/x-python",
   "name": "python",
   "nbconvert_exporter": "python",
   "pygments_lexer": "ipython3",
   "version": "3.8.5"
  }
 },
 "nbformat": 4,
 "nbformat_minor": 4
}