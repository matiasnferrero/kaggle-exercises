{
 "cells": [
  {
   "cell_type": "markdown",
   "metadata": {},
   "source": [
    "Should be done:\n",
    "Split this file into groups of functions.\n",
    "Example those for making plots, those for cleaning data, etc\n",
    "\n",
    "Docstrings for the functions."
   ]
  },
  {
   "cell_type": "code",
   "execution_count": 1,
   "metadata": {},
   "outputs": [],
   "source": [
    "#---------------------------EXERCISE: SCALE AND NORMALIZE -----------------------------------------------"
   ]
  },
  {
   "cell_type": "code",
   "execution_count": 2,
   "metadata": {},
   "outputs": [],
   "source": [
    "def compare_datasets_cols_and_dtypes(df1,df2):\n",
    "    \n",
    "    print_diff_in_cols(df1, df2)\n",
    "    print_dtypes(df1, df2)\n",
    "    "
   ]
  },
  {
   "cell_type": "code",
   "execution_count": 3,
   "metadata": {},
   "outputs": [],
   "source": [
    "def print_dtypes(df1, df2):\n",
    "    \n",
    "    df_dtypes_1 = pd.DataFrame(df1.dtypes)\n",
    "    df_dtypes_1.columns = ['datatype_1']\n",
    "\n",
    "    df_dtypes_2 = pd.DataFrame(df2.dtypes)\n",
    "    df_dtypes_2.columns = ['datatype_2']\n",
    "\n",
    "    df_all = pd.concat([df_dtypes_1, df_dtypes_2], \n",
    "                       axis='columns', \n",
    "                      ) \n",
    "\n",
    "    print(df_all)\n",
    "    "
   ]
  },
  {
   "cell_type": "code",
   "execution_count": 4,
   "metadata": {},
   "outputs": [],
   "source": [
    "def print_diff_in_cols(df1, df2):\n",
    "    \n",
    "    set_exclusive_cols_from_first_df = set(df1.columns)- set(df2.columns)\n",
    "    print(f'exclusive_cols_from_first_df: {set_exclusive_cols_from_first_df}')\n",
    "    print('')\n",
    "    \n",
    "    set_exclusive_cols_from_second_df = set(df2.columns)- set(df1.columns)\n",
    "    print(f'exclusive_cols_from_second_df: {set_exclusive_cols_from_second_df}')\n",
    "    "
   ]
  },
  {
   "cell_type": "code",
   "execution_count": 5,
   "metadata": {},
   "outputs": [],
   "source": [
    "def get_series_of_strictly_positive_values(df, column):\n",
    "    return df[df[column] > 0][column]\n",
    "    "
   ]
  },
  {
   "cell_type": "code",
   "execution_count": 6,
   "metadata": {},
   "outputs": [],
   "source": [
    "def find_non_numeric_values(df):\n",
    "    \n",
    "    df_non_numeric_values = df[~df.applymap(np.isreal).all(1)]\n",
    "    \n",
    "    if len(df_non_numeric_values)==0:\n",
    "        return 'all the values are numeric'\n",
    "    \n",
    "    else:\n",
    "        return df_non_numeric_values"
   ]
  },
  {
   "cell_type": "code",
   "execution_count": 7,
   "metadata": {},
   "outputs": [],
   "source": [
    "def clean_df_headers(df):\n",
    "    for col_ in df.columns:\n",
    "        col_cleaned = col_.lower().strip()\n",
    "        df = df.rename(columns={col_: col_cleaned})\n",
    "    print('all cols casted to lowercase and whitespaces stripped ✓')    \n",
    "    return df\n",
    "    "
   ]
  },
  {
   "cell_type": "code",
   "execution_count": 8,
   "metadata": {},
   "outputs": [],
   "source": [
    "def plot_comparison(dataset1, dataset2):\n",
    "    \n",
    "    fig, ax=plt.subplots(1,2)\n",
    "    \n",
    "    PLOT_SIZE_IN_INCHES = 20, 2\n",
    "    fig.set_size_inches(PLOT_SIZE_IN_INCHES)\n",
    "    sns.distplot(dataset1, ax=ax[0])\n",
    "    ax[0].set_title(\"Original Data\")\n",
    "    sns.distplot(dataset2, ax=ax[1])\n",
    "    ax[1].set_title(\"Transformed data\")"
   ]
  },
  {
   "cell_type": "code",
   "execution_count": 9,
   "metadata": {},
   "outputs": [],
   "source": [
    "def normalize_with_box_cox_and_plot_comparison(dataset):\n",
    "\n",
    "    normalized_data = stats.boxcox(dataset)[0]\n",
    "    plot_comparison(dataset, normalized_data)\n",
    "    "
   ]
  },
  {
   "cell_type": "code",
   "execution_count": 10,
   "metadata": {},
   "outputs": [],
   "source": [
    "def minmax_scaling_and_plot_comparison(dataset):\n",
    "\n",
    "    scaled_data = minmax_scaling(dataset, columns = [0])\n",
    "\n",
    "    plot_comparison(dataset, scaled_data)"
   ]
  },
  {
   "cell_type": "code",
   "execution_count": 11,
   "metadata": {},
   "outputs": [],
   "source": [
    "def plot_data(data, title=\"Original Data\"):\n",
    "\n",
    "    fig, ax=plt.subplots(1,1)    \n",
    "    PLOT_SIZE_IN_INCHES = 20, 2\n",
    "    fig.set_size_inches(PLOT_SIZE_IN_INCHES)\n",
    "    sns.distplot(data, ax=ax)\n",
    "    \n",
    "    ax.set_title(title)    "
   ]
  },
  {
   "cell_type": "code",
   "execution_count": 12,
   "metadata": {},
   "outputs": [],
   "source": [
    "def minmax_scaling_and_plot(data, title = \"Scaled Data\"):\n",
    "    \n",
    "    scaled_data = minmax_scaling(data, columns = [0])    \n",
    "    plot_data(scaled_data, title)"
   ]
  },
  {
   "cell_type": "code",
   "execution_count": 13,
   "metadata": {},
   "outputs": [],
   "source": [
    "#---------------------------EXERCISE: INCONSISTENT DATA -----------------------------------------------"
   ]
  },
  {
   "cell_type": "code",
   "execution_count": 14,
   "metadata": {},
   "outputs": [],
   "source": [
    "def get_most_likely_encoding(filename):\n",
    "    rawdata = open(filename, 'rb').read()\n",
    "    return chardet.detect(rawdata)['encoding']"
   ]
  },
  {
   "cell_type": "code",
   "execution_count": 15,
   "metadata": {},
   "outputs": [],
   "source": [
    "def get_all_the_unique_values_in_the_city_column_sort_and_print(df):\n",
    "    # get all the unique values in the 'City' column\n",
    "    cities = df['City'].unique()\n",
    "\n",
    "    # sort them alphabetically and then take a closer look\n",
    "    cities.sort()\n",
    "    print(cities)\n",
    "    "
   ]
  },
  {
   "cell_type": "code",
   "execution_count": 16,
   "metadata": {},
   "outputs": [],
   "source": [
    "def strip_space_after_dot(text):\n",
    "    return re.sub(r'(?<=[.?!])( +|\\Z)', r'', text)\n",
    "    "
   ]
  },
  {
   "cell_type": "code",
   "execution_count": 17,
   "metadata": {},
   "outputs": [],
   "source": [
    "def normalize_column(df, column):\n",
    "  \n",
    "  df[column] = df[column].str.lower()\n",
    "  print(f'Casted to lowercase ✓')\n",
    "  \n",
    "  df[column] = df[column].str.strip()  \n",
    "  print(f'Stripped left and right whitespaces ✓')  \n",
    "    \n",
    "  df[column] = df[column].apply(lambda x: strip_space_after_dot(x))  \n",
    "  print(f'Stripped whitespaces after dots ✓')\n",
    "  \n",
    "  \n",
    "  new_col = f'second_{column}'\n",
    "      \n",
    "  df[new_col] = df[column].str.split(',', expand=True)[1]\n",
    "  df[column] = df[column].str.split(',', expand=True)[0]  \n",
    "    \n",
    "\n",
    "  print(f'Cells with two entries were splitted, and second entry placed into a new column: {new_col}. ✓')\n",
    "\n",
    "  return df "
   ]
  },
  {
   "cell_type": "code",
   "execution_count": 18,
   "metadata": {},
   "outputs": [],
   "source": [
    "def plot_histogram(df,column):\n",
    "\n",
    "    ax = df[column].plot(kind='hist', figsize=(20,20)) \n",
    "    ax.set_xlabel(column)\n",
    "    ax.set_ylabel(\"Frequency\")\n",
    "    ax.xaxis.set_ticks(np.arange(df[column].min(), df[column].max()+1, 1))\n",
    "    \n",
    "    "
   ]
  },
  {
   "cell_type": "code",
   "execution_count": 19,
   "metadata": {},
   "outputs": [],
   "source": [
    "def build_df_from_csv(suffix, BASE_PATH, clean_headers=False, encoding=None):\n",
    "    \n",
    "    filename = f'{suffix}'\n",
    "    print(f'Reading: {filename}')\n",
    "\n",
    "    PATH_TO_DATA = f'{BASE_PATH}/{filename}'\n",
    "    df_i = pd.read_csv(PATH_TO_DATA, low_memory=False, encoding=encoding)\n",
    "    \n",
    "    if clean_headers:\n",
    "      print(f'clean_headers: {clean_headers}')\n",
    "      df_i = clean_df_headers(df_i)\n",
    "        \n",
    "    print(f'shape: {df_i.shape}')\n",
    "    print(f'columns: {list(df_i.columns)}')\n",
    "    \n",
    "    print_stats_about_missing_values(df_i)\n",
    "    print('')\n",
    "    \n",
    "    return df_i\n"
   ]
  },
  {
   "cell_type": "code",
   "execution_count": 20,
   "metadata": {},
   "outputs": [],
   "source": [
    "# We assing the same default value to encoding, as Pandas. \n",
    "# https://pandas.pydata.org/pandas-docs/stable/reference/api/pandas.read_csv.html\n",
    "def build_df_from_appending_csv_files(list_suffix, BASE_PATH, clean_headers=False, encoding=None):\n",
    "    df = pd.DataFrame()\n",
    "\n",
    "    for suffix in list_suffix:\n",
    "        df_i = build_df_from_csv(suffix, BASE_PATH, clean_headers, encoding)   \n",
    "        df = pd.concat([df,df_i], axis=0, ignore_index=True)\n",
    "        \n",
    "\n",
    "    return df "
   ]
  },
  {
   "cell_type": "code",
   "execution_count": 21,
   "metadata": {},
   "outputs": [],
   "source": [
    "#---------------------------EXERCISE: HANDLING MISSING DATA -----------------------------------------------"
   ]
  },
  {
   "cell_type": "code",
   "execution_count": 22,
   "metadata": {},
   "outputs": [],
   "source": [
    "def remove_all_cols_with_at_least_one_missing_value(df):\n",
    "  return df.dropna(axis=1)"
   ]
  },
  {
   "cell_type": "code",
   "execution_count": 23,
   "metadata": {},
   "outputs": [],
   "source": [
    "def print_number_of_missing_points_in_descending_order(df):\n",
    "  df_isnull_sum = df.isnull().sum()\n",
    "  s_percent_missing = (df_isnull_sum * 100 / len(df)).sort_values(ascending=False)\n",
    "\n",
    "  return s_percent_missing"
   ]
  },
  {
   "cell_type": "code",
   "execution_count": 24,
   "metadata": {},
   "outputs": [],
   "source": [
    "def remove_cols_with_only_null_values(df):\n",
    "    \n",
    "    df_pc_of_nulls = ((df.isnull() | df.isna()).sum() / df.index.size)\n",
    "    list_cols_all_nulls = list(get_cols_where_pc_nulls_equals(df_pc_of_nulls, 1))\n",
    "    print(f'The following cols contain only nulls and will be removed: {list_cols_all_nulls}')\n",
    "    df = df.drop(list_cols_all_nulls, axis=1)\n",
    "    \n",
    "    return df "
   ]
  },
  {
   "cell_type": "code",
   "execution_count": 25,
   "metadata": {},
   "outputs": [],
   "source": [
    "def plot_and_compare_pc_of_nulls(df1, df2):\n",
    "    \n",
    "    fig, ax=plt.subplots(1,2)    \n",
    "    fig.set_size_inches(20, 2)\n",
    "    \n",
    "    \n",
    "    plot_pc_of_nulls(df1)\n",
    "    plot_pc_of_nulls(df2)\n",
    "\n"
   ]
  },
  {
   "cell_type": "code",
   "execution_count": 26,
   "metadata": {},
   "outputs": [],
   "source": [
    "def plot_pc_of_nulls(df1):\n",
    "    \n",
    "    fig, ax=plt.subplots(1,1)    \n",
    "    fig.set_size_inches(20, 2)\n",
    "\n",
    "    list_labels = ['0', ' > 0', '> 0.5', '1']\n",
    "    \n",
    "    \n",
    "    ### TODO: REFACTOR TO NOT REPEAT\n",
    "    list_nulls = get_list_nulls(df1)\n",
    "        \n",
    "    N = len(list_nulls)\n",
    "    \n",
    "    ax.bar(range(N), list_nulls, width=0.8, bottom=None, align='center')  \n",
    "    ax.set_xticks(range(N))\n",
    "    ax.set_xticklabels(list_labels, fontdict=None, minor=False)\n",
    "    ax.set_title('number of cols where percentage_of_nulls is: ')\n"
   ]
  },
  {
   "cell_type": "code",
   "execution_count": 27,
   "metadata": {},
   "outputs": [],
   "source": [
    "def get_list_nulls(df):\n",
    "    df_pc_of_nulls = ((df.isnull() | df.isna()).sum() / df.index.size)\n",
    "\n",
    "    list_nulls = [\n",
    "        get_values_equals_to(df_pc_of_nulls,0), \n",
    "        get_values_greater_than(df_pc_of_nulls,0),\n",
    "        get_values_greater_than(df_pc_of_nulls,0.5),\n",
    "        get_values_equals_to(df_pc_of_nulls,1)\n",
    "\n",
    "    ]\n",
    "    \n",
    "    return list_nulls\n",
    "    "
   ]
  },
  {
   "cell_type": "code",
   "execution_count": 28,
   "metadata": {},
   "outputs": [],
   "source": [
    "def print_stats_about_missing_values(df, mode=None):\n",
    "    \n",
    "    df_isnull_sum = df.isnull().sum()\n",
    "\n",
    "    total_number_of_null_values = df_isnull_sum.sum()\n",
    "    total_number_of_filled_values = df.notnull().sum().sum() \n",
    "    total_number_of_values = total_number_of_filled_values + total_number_of_null_values\n",
    "\n",
    "    pc_number_of_null_values = total_number_of_null_values/total_number_of_values\n",
    "    \n",
    "    if mode == 'all':\n",
    "        print(f'total_number_of_null_values: {total_number_of_null_values:,}')\n",
    "        print(f'total_number_of_filled_values: {total_number_of_filled_values:,}')\n",
    "        print(f'total_number_of_values: {total_number_of_values:,}')\n",
    "    \n",
    "    print(f'pc_number_of_null_values: {pc_number_of_null_values:.6f}')     \n"
   ]
  },
  {
   "cell_type": "code",
   "execution_count": 29,
   "metadata": {},
   "outputs": [],
   "source": [
    "def get_values_greater_than(df, v):\n",
    "    df_ = pd.DataFrame(df[df.apply(lambda x: x>v)])\n",
    "    n_of_cols = len(df_)\n",
    "    \n",
    "    return n_of_cols"
   ]
  },
  {
   "cell_type": "code",
   "execution_count": 30,
   "metadata": {},
   "outputs": [],
   "source": [
    "def get_values_equals_to(df, v):\n",
    "    df_ = pd.DataFrame(df[df.apply(lambda x: x==v)])\n",
    "    n_of_cols = len(df_)\n",
    "    \n",
    "    return n_of_cols"
   ]
  },
  {
   "cell_type": "code",
   "execution_count": 31,
   "metadata": {},
   "outputs": [],
   "source": [
    "def get_cols_where_pc_nulls_equals(df, v):\n",
    "   return pd.DataFrame(df[df.apply(lambda x: x==v)]).index\n",
    "    \n",
    "    "
   ]
  },
  {
   "cell_type": "code",
   "execution_count": 32,
   "metadata": {},
   "outputs": [],
   "source": [
    "def print_number(number): \n",
    "    return print(\"{:,}\".format(number)) "
   ]
  },
  {
   "cell_type": "code",
   "execution_count": 33,
   "metadata": {},
   "outputs": [],
   "source": [
    "def print_info_about_dataframe(df):\n",
    "  print(f'Shape: {df.shape}' )\n",
    "  print('')\n",
    "  print(f'df.info(): {df.info()}')\n",
    "  print('')\n",
    "  print(f'Cols and dtypes:' )\n",
    "  print(df.dtypes)"
   ]
  },
  {
   "cell_type": "code",
   "execution_count": null,
   "metadata": {},
   "outputs": [],
   "source": []
  },
  {
   "cell_type": "code",
   "execution_count": null,
   "metadata": {},
   "outputs": [],
   "source": []
  }
 ],
 "metadata": {
  "kernelspec": {
   "display_name": "Python 3",
   "language": "python",
   "name": "python3"
  },
  "language_info": {
   "codemirror_mode": {
    "name": "ipython",
    "version": 3
   },
   "file_extension": ".py",
   "mimetype": "text/x-python",
   "name": "python",
   "nbconvert_exporter": "python",
   "pygments_lexer": "ipython3",
   "version": "3.8.5-final"
  }
 },
 "nbformat": 4,
 "nbformat_minor": 4
}